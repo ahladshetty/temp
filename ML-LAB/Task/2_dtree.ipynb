{
 "cells": [
  {
   "cell_type": "code",
   "execution_count": 120,
   "id": "6e67c6ba-2f8f-42b0-a4bd-692528a15cb8",
   "metadata": {},
   "outputs": [],
   "source": [
    "import pandas as pd\n",
    "import numpy as np\n",
    "import matplotlib.pyplot as plt\n",
    "from sklearn.model_selection import train_test_split"
   ]
  },
  {
   "cell_type": "code",
   "execution_count": 121,
   "id": "76adb86d-6fab-4cdc-9e61-180ec8c6ea96",
   "metadata": {},
   "outputs": [
    {
     "data": {
      "text/html": [
       "<div>\n",
       "<style scoped>\n",
       "    .dataframe tbody tr th:only-of-type {\n",
       "        vertical-align: middle;\n",
       "    }\n",
       "\n",
       "    .dataframe tbody tr th {\n",
       "        vertical-align: top;\n",
       "    }\n",
       "\n",
       "    .dataframe thead th {\n",
       "        text-align: right;\n",
       "    }\n",
       "</style>\n",
       "<table border=\"1\" class=\"dataframe\">\n",
       "  <thead>\n",
       "    <tr style=\"text-align: right;\">\n",
       "      <th></th>\n",
       "      <th>Weight</th>\n",
       "      <th>Horsepower</th>\n",
       "      <th>Number of cylinders</th>\n",
       "      <th>Mileage</th>\n",
       "    </tr>\n",
       "  </thead>\n",
       "  <tbody>\n",
       "    <tr>\n",
       "      <th>0</th>\n",
       "      <td>3123.620357</td>\n",
       "      <td>54.714378</td>\n",
       "      <td>7</td>\n",
       "      <td>-15.987429</td>\n",
       "    </tr>\n",
       "    <tr>\n",
       "      <th>1</th>\n",
       "      <td>4852.142919</td>\n",
       "      <td>145.461562</td>\n",
       "      <td>7</td>\n",
       "      <td>-20.027300</td>\n",
       "    </tr>\n",
       "    <tr>\n",
       "      <th>2</th>\n",
       "      <td>4195.981825</td>\n",
       "      <td>97.153397</td>\n",
       "      <td>6</td>\n",
       "      <td>-12.446144</td>\n",
       "    </tr>\n",
       "    <tr>\n",
       "      <th>3</th>\n",
       "      <td>3795.975453</td>\n",
       "      <td>126.285604</td>\n",
       "      <td>4</td>\n",
       "      <td>-2.016606</td>\n",
       "    </tr>\n",
       "    <tr>\n",
       "      <th>4</th>\n",
       "      <td>2468.055921</td>\n",
       "      <td>186.134971</td>\n",
       "      <td>7</td>\n",
       "      <td>-11.190111</td>\n",
       "    </tr>\n",
       "    <tr>\n",
       "      <th>...</th>\n",
       "      <td>...</td>\n",
       "      <td>...</td>\n",
       "      <td>...</td>\n",
       "      <td>...</td>\n",
       "    </tr>\n",
       "    <tr>\n",
       "      <th>95</th>\n",
       "      <td>3481.386789</td>\n",
       "      <td>102.381436</td>\n",
       "      <td>6</td>\n",
       "      <td>-16.353366</td>\n",
       "    </tr>\n",
       "    <tr>\n",
       "      <th>96</th>\n",
       "      <td>3568.198488</td>\n",
       "      <td>158.893352</td>\n",
       "      <td>6</td>\n",
       "      <td>0.295523</td>\n",
       "    </tr>\n",
       "    <tr>\n",
       "      <th>97</th>\n",
       "      <td>3282.623055</td>\n",
       "      <td>184.566539</td>\n",
       "      <td>7</td>\n",
       "      <td>-22.151673</td>\n",
       "    </tr>\n",
       "    <tr>\n",
       "      <th>98</th>\n",
       "      <td>2076.257380</td>\n",
       "      <td>183.062964</td>\n",
       "      <td>4</td>\n",
       "      <td>-6.922521</td>\n",
       "    </tr>\n",
       "    <tr>\n",
       "      <th>99</th>\n",
       "      <td>2323.674281</td>\n",
       "      <td>166.981332</td>\n",
       "      <td>7</td>\n",
       "      <td>-9.247300</td>\n",
       "    </tr>\n",
       "  </tbody>\n",
       "</table>\n",
       "<p>100 rows × 4 columns</p>\n",
       "</div>"
      ],
      "text/plain": [
       "         Weight  Horsepower  Number of cylinders    Mileage\n",
       "0   3123.620357   54.714378                    7 -15.987429\n",
       "1   4852.142919  145.461562                    7 -20.027300\n",
       "2   4195.981825   97.153397                    6 -12.446144\n",
       "3   3795.975453  126.285604                    4  -2.016606\n",
       "4   2468.055921  186.134971                    7 -11.190111\n",
       "..          ...         ...                  ...        ...\n",
       "95  3481.386789  102.381436                    6 -16.353366\n",
       "96  3568.198488  158.893352                    6   0.295523\n",
       "97  3282.623055  184.566539                    7 -22.151673\n",
       "98  2076.257380  183.062964                    4  -6.922521\n",
       "99  2323.674281  166.981332                    7  -9.247300\n",
       "\n",
       "[100 rows x 4 columns]"
      ]
     },
     "execution_count": 121,
     "metadata": {},
     "output_type": "execute_result"
    }
   ],
   "source": [
    "df = pd.read_csv('car_data.csv')\n",
    "df"
   ]
  },
  {
   "cell_type": "code",
   "execution_count": 122,
   "id": "e78aa1d8-8223-4d18-9152-04df53b01cfa",
   "metadata": {},
   "outputs": [
    {
     "name": "stdout",
     "output_type": "stream",
     "text": [
      "Missing values:\n",
      " Weight                 0\n",
      "Horsepower             0\n",
      "Number of cylinders    0\n",
      "Mileage                0\n",
      "dtype: int64\n"
     ]
    }
   ],
   "source": [
    "print(\"Missing values:\\n\", df.isnull().sum())"
   ]
  },
  {
   "cell_type": "code",
   "execution_count": 123,
   "id": "a03347e0-9090-4e68-94d2-dad1812ca3e1",
   "metadata": {},
   "outputs": [],
   "source": [
    "# Handling missing values\n",
    "# df[['Weight', 'Horsepower', 'Number of cylinders', 'Mileage']] = df[['Weight', 'Horsepower', 'Number of cylinders', 'Mileage']].replace(0, np.NaN)\n",
    "# df.dropna(inplace=True)"
   ]
  },
  {
   "cell_type": "code",
   "execution_count": 124,
   "id": "694d9c98-d2f1-4957-9205-479de7fe1665",
   "metadata": {},
   "outputs": [
    {
     "name": "stdout",
     "output_type": "stream",
     "text": [
      "Weight                 0\n",
      "Horsepower             0\n",
      "Number of cylinders    0\n",
      "Mileage                0\n",
      "dtype: int64\n"
     ]
    }
   ],
   "source": [
    "#replace 0 value with NaN\n",
    "df_copy = df.copy(deep = True) #deep = True -> Buat salinan indeks dan data dalam dataframe\n",
    "df_copy[['Weight', 'Horsepower', 'Number of cylinders', 'Mileage']] = df_copy[['Weight', 'Horsepower', 'Number of cylinders', 'Mileage']].replace(0,np.NaN)\n",
    "\n",
    "# Showing the Count of NANs\n",
    "print(df_copy.isnull().sum())"
   ]
  },
  {
   "cell_type": "code",
   "execution_count": 125,
   "id": "025e7980-cfa5-405f-ae02-2b0d28064df6",
   "metadata": {},
   "outputs": [],
   "source": [
    "# Split dataset into features (X) and target variable (y)\n",
    "X = df[['Weight', 'Horsepower', 'Number of cylinders']]\n",
    "y = df['Mileage']"
   ]
  },
  {
   "cell_type": "code",
   "execution_count": 126,
   "id": "e11bc285-ac54-4ae9-ae56-e0e39b23d126",
   "metadata": {},
   "outputs": [],
   "source": [
    "X_train, X_test, y_train, y_test = train_test_split(X, y, test_size=0.2, random_state=42)"
   ]
  },
  {
   "cell_type": "code",
   "execution_count": 127,
   "id": "039ca81f-579f-468c-9a04-9df7a8ec4499",
   "metadata": {},
   "outputs": [],
   "source": [
    "class LinearRegression:\n",
    "    def __init__(self, learning_rate=0.001, n_iterations=1000, clip_value=1.0):\n",
    "        self.learning_rate = learning_rate\n",
    "        self.n_iterations = n_iterations\n",
    "        self.clip_value = clip_value\n",
    "        self.weights = None\n",
    "        self.bias = None\n",
    "    \n",
    "    def fit(self, X, y):\n",
    "        n_samples, n_features = X.shape\n",
    "        self.weights = np.zeros(n_features)\n",
    "        self.bias = 0\n",
    "        \n",
    "        # Gradient descent\n",
    "        for _ in range(self.n_iterations):\n",
    "            y_predicted = np.dot(X, self.weights) + self.bias\n",
    "            dw = (1 / n_samples) * np.dot(X.T, (y_predicted - y))\n",
    "            db = (1 / n_samples) * np.sum(y_predicted - y)\n",
    "            \n",
    "            # Clip gradients to prevent NaN or infinity values\n",
    "            dw = np.clip(dw, -self.clip_value, self.clip_value)\n",
    "            db = np.clip(db, -self.clip_value, self.clip_value)\n",
    "            \n",
    "            self.weights -= self.learning_rate * dw\n",
    "            self.bias -= self.learning_rate * db\n",
    "    \n",
    "    def predict(self, X):\n",
    "        return np.dot(X, self.weights) + self.bias"
   ]
  },
  {
   "cell_type": "code",
   "execution_count": 128,
   "id": "e3ff920e-687b-4d62-bdc0-e8cbe975af8c",
   "metadata": {},
   "outputs": [],
   "source": [
    "# Create and train the model\n",
    "model = LinearRegression()\n",
    "model.fit(X_train, y_train)"
   ]
  },
  {
   "cell_type": "code",
   "execution_count": 129,
   "id": "32f44bbb-46ba-47df-888b-9e5e983d4fe9",
   "metadata": {},
   "outputs": [],
   "source": [
    "y_pred = model.predict(X_test)"
   ]
  },
  {
   "cell_type": "code",
   "execution_count": 130,
   "id": "8b7c6414-3d03-406a-b601-b03cf3d36baf",
   "metadata": {},
   "outputs": [],
   "source": [
    "# Calculate RMSE\n",
    "def rmse(y_true, y_pred):\n",
    "    return np.sqrt(np.mean((y_true - y_pred)**2))"
   ]
  },
  {
   "cell_type": "code",
   "execution_count": 131,
   "id": "41b13f88-fec7-490a-9e47-3b04679f1a42",
   "metadata": {},
   "outputs": [
    {
     "name": "stdout",
     "output_type": "stream",
     "text": [
      "Root Mean Squared Error (Training): 6.844239240061865\n",
      "Root Mean Squared Error (Testing): 6.524539474063052\n"
     ]
    }
   ],
   "source": [
    "rmse_train = rmse(y_train, model.predict(X_train))\n",
    "rmse_test = rmse(y_test, y_pred)\n",
    "print(\"Root Mean Squared Error (Training):\", rmse_train)\n",
    "print(\"Root Mean Squared Error (Testing):\", rmse_test)"
   ]
  },
  {
   "cell_type": "code",
   "execution_count": 132,
   "id": "cc68ee97-f048-4d90-9556-e97bc3198f30",
   "metadata": {},
   "outputs": [
    {
     "name": "stdout",
     "output_type": "stream",
     "text": [
      "Predicted Mileage for new car data: [-6.314]\n"
     ]
    }
   ],
   "source": [
    "# Predict mileage for a car\n",
    "new_car_data = np.array([[3000, 150, 6]])\n",
    "predicted_mileage = model.predict(new_car_data)\n",
    "print(\"Predicted Mileage for new car data:\", predicted_mileage)"
   ]
  },
  {
   "cell_type": "code",
   "execution_count": 133,
   "id": "879ccecf-4249-4b30-9802-37750325f8d5",
   "metadata": {},
   "outputs": [
    {
     "data": {
      "image/png": "[encoded data removed]",
      "text/plain": [
       "<Figure size 640x480 with 1 Axes>"
      ]
     },
     "metadata": {},
     "output_type": "display_data"
    }
   ],
   "source": [
    "# Plot actual vs predicted mileages for the test set\n",
    "plt.scatter(y_test, y_pred)\n",
    "plt.xlabel(\"Actual Mileage\")\n",
    "plt.ylabel(\"Predicted Mileage\")\n",
    "plt.title(\"Actual vs Predicted Mileages\")\n",
    "plt.show()"
   ]
  },
  {
   "cell_type": "code",
   "execution_count": null,
   "id": "b3912600-2484-4b79-9fb5-845307c2ba0a",
   "metadata": {},
   "outputs": [],
   "source": []
  }
 ],
 "metadata": {
  "kernelspec": {
   "display_name": "Python 3 (ipykernel)",
   "language": "python",
   "name": "python3"
  },
  "language_info": {
   "codemirror_mode": {
    "name": "ipython",
    "version": 3
   },
   "file_extension": ".py",
   "mimetype": "text/x-python",
   "name": "python",
   "nbconvert_exporter": "python",
   "pygments_lexer": "ipython3",
   "version": "3.12.2"
  }
 },
 "nbformat": 4,
 "nbformat_minor": 5
}
