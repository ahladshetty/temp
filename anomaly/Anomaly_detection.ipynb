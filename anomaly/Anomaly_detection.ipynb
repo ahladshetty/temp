{
 "cells": [
  {
   "cell_type": "code",
   "execution_count": 1,
   "metadata": {},
   "outputs": [],
   "source": [
    "import pandas as pd\n",
    "import numpy as np\n",
    "from sklearn.decomposition import PCA\n",
    "%matplotlib inline\n",
    "import matplotlib.pyplot as plt\n",
    "import matplotlib.colors as pltc\n",
    "from sklearn.neighbors import LocalOutlierFactor\n",
    "from sklearn import svm\n",
    "from sklearn.preprocessing import StandardScaler, OneHotEncoder, LabelEncoder\n",
    "from sklearn.metrics import classification_report\n",
    "import pickle\n",
    "from random import sample"
   ]
  },
  {
   "cell_type": "code",
   "execution_count": null,
   "metadata": {},
   "outputs": [],
   "source": [
    "## SECTION 1: DATA LOADING PART"
   ]
  },
  {
   "cell_type": "code",
   "execution_count": 2,
   "metadata": {},
   "outputs": [],
   "source": [
    "headers = ['timestamp','duration','protocol', 'src_ip', 'src_port', 'direction', 'dst_ip' , 'dst_port'\n",
    "           ,'state', 'src_type', 'dst_type' , 'total_packets', 'bytes_bothdir', 'bytes_onedir' ]\n",
    "val_headers = headers.copy()\n",
    "val_headers.append('label')"
   ]
  },
  {
   "cell_type": "code",
   "execution_count": 40,
   "metadata": {
    "scrolled": true
   },
   "outputs": [
    {
     "name": "stderr",
     "output_type": "stream",
     "text": [
      "<string>:2: DtypeWarning: Columns (4,7) have mixed types.Specify dtype option on import or set low_memory=False.\n"
     ]
    },
    {
     "name": "stdout",
     "output_type": "stream",
     "text": [
      "Wall time: 8min 47s\n",
      "Parser   : 121 ms\n"
     ]
    }
   ],
   "source": [
    "%%time\n",
    "df_train_original = pd.read_csv(\"training_data.csv\", names=headers, header=None).sample(frac=0.002, replace=False, random_state=42).fillna(-1)\n",
    "df_val_notsampled = pd.read_csv(\"valid_data_with_labels.csv\", names=val_headers, header=None).fillna(-1)\n",
    "df_test_original = pd.read_csv(\"test_data.csv\", names=headers, header=None).fillna(-1)"
   ]
  },
  {
   "cell_type": "code",
   "execution_count": 41,
   "metadata": {},
   "outputs": [
    {
     "name": "stdout",
     "output_type": "stream",
     "text": [
      "27764\n",
      "940062\n",
      "1053845\n"
     ]
    }
   ],
   "source": [
    "print(len(df_train_original))\n",
    "print(len(df_val_notsampled))\n",
    "print(len(df_test_original))"
   ]
  },
  {
   "cell_type": "code",
   "execution_count": 27,
   "metadata": {},
   "outputs": [],
   "source": [
    "df_val_notsampled.loc[df_val_notsampled['label'].str.contains(\"From-Botnet\"), 'label'] = -1\n",
    "df_val_notsampled.loc[df_val_notsampled['label'].str.contains(\"From-Botnet\")== False, 'label'] = 1\n",
    "df_val_notsampled.label = df_val_notsampled.label.astype(int)"
   ]
  },
  {
   "cell_type": "code",
   "execution_count": 28,
   "metadata": {},
   "outputs": [
    {
     "name": "stdout",
     "output_type": "stream",
     "text": [
      "47003\n"
     ]
    }
   ],
   "source": [
    "# To sample anomaly and normal data evenly from validation set\n",
    "df_val_original = df_val_notsampled.copy()\n",
    "normal = df_val_original[df_val_original['label']==1].sample(frac=0.05, replace=False, random_state=42) #0.054\n",
    "anomaly= df_val_original[df_val_original['label']==-1].sample(frac=0.05, replace=False, random_state=42)\n",
    "df_val_original = pd.concat([normal, anomaly]) \n",
    "print(len(df_val_original))"
   ]
  },
  {
   "cell_type": "code",
   "execution_count": null,
   "metadata": {},
   "outputs": [],
   "source": [
    "## SECTION 2: FUNCTIONS FOR PROCESSING"
   ]
  },
  {
   "cell_type": "code",
   "execution_count": 7,
   "metadata": {},
   "outputs": [],
   "source": [
    "## Preprocessing for calculation, and preparing for onehot \n",
    "def convert_to_str(df):\n",
    "    convert_to_str_list = ['src_port', 'dst_port']\n",
    "    for column in convert_to_str_list: \n",
    "        df[column]= df[column].apply(str)\n",
    "\n",
    "    df_obj = df.select_dtypes(['object'])\n",
    "    df[df_obj.columns] = df_obj.apply(lambda x: x.str.strip())\n",
    "    \n",
    "def apply_stat(df):\n",
    "    df['pps'] = df['total_packets']/ df['duration']\n",
    "    df['bps_onedir'] = df['bytes_onedir']/ df['total_packets']\n",
    "    df['bpp_onedir'] = df['bytes_onedir']/ df['duration']\n",
    "    df['bps_bothdir'] = df['bytes_bothdir']/ df['total_packets']\n",
    "    df['bpp_bothdir'] = df['bytes_bothdir']/ df['duration']  \n",
    "    \n",
    "def preprocess(flag, df_original):\n",
    "    groupby_columns = ['src_ip', 'dst_ip', 'src_port', 'dst_port', 'protocol']\n",
    "    df_original[\"stream_id\"] = df_original.groupby(groupby_columns).grouper.group_info[0]\n",
    "    df_original = df_original.sort_values(by=['stream_id','timestamp'])\n",
    "    df_original['timestamp']=df_original['timestamp'].apply(pd.to_datetime)\n",
    "    #df['endtime'] = df['timestamp'] + pd.to_timedelta(df['duration'], unit='s')\n",
    "    df_original.loc[df_original['duration']==0, 'duration'] = 0.000001\n",
    "    #apply_addinfo(df)    \n",
    "    convert_to_str(df_original)    \n",
    "    stream_id_grouped = df_original.groupby(['stream_id'])    \n",
    "    stream_id = stream_id_grouped.grouper.group_info[0]\n",
    "    stream_id = set(stream_id)\n",
    "    newdf = pd.DataFrame(stream_id, columns=['stream_id'])\n",
    "    newdf['src_ip'] = stream_id_grouped['src_ip'].first()\n",
    "    newdf['dst_ip'] = stream_id_grouped['dst_ip'].first()\n",
    "    newdf['src_port'] = stream_id_grouped['src_port'].first()\n",
    "    newdf['dst_port'] = stream_id_grouped['dst_port'].first()\n",
    "    newdf['protocol'] = stream_id_grouped['protocol'].first()\n",
    "    \n",
    "    if flag == 'val':\n",
    "        newdf['label'] = stream_id_grouped['label'].mean()\n",
    "\n",
    "    return newdf, df_original"
   ]
  },
  {
   "cell_type": "code",
   "execution_count": 8,
   "metadata": {},
   "outputs": [
    {
     "name": "stdout",
     "output_type": "stream",
     "text": [
      "Wall time: 0 ns\n"
     ]
    }
   ],
   "source": [
    "%%time\n",
    "## FOR FEATURE3: average cumulative features\n",
    "\n",
    "src_time_diff_dict = {}\n",
    "src_cnt_dict = {}\n",
    "dst_time_diff_dict = {}\n",
    "dst_cnt_dict = {}\n",
    "srcdst_time_diff_dict = {}\n",
    "srcdst_cnt_dict = {}\n",
    "\n",
    "def get_time_diff(df_original):\n",
    "\n",
    "    df_original['src_time_diff']= df_original.groupby('src_ip')['timestamp'].apply(lambda s: s.diff().dt.seconds < 60)\n",
    "    df_original['dst_time_diff']= df_original.groupby('dst_ip')['timestamp'].apply(lambda s: s.diff().dt.seconds < 60)\n",
    "    df_original['srcdst_time_diff']= df_original.groupby(['src_ip', 'dst_port'])['timestamp'].apply(lambda s: s.diff().dt.seconds < 30) \n",
    "    \n",
    "def groupby_sum(df, df_original):\n",
    "    fields = ['bytes_bothdir','bytes_onedir', 'total_packets', 'duration']\n",
    "\n",
    "    for field in fields:\n",
    "        df[field] = df_original.groupby(['stream_id'])[field].sum()\n",
    "    \n",
    "    return df\n",
    "\n",
    "def apply_avg(df, df_original):\n",
    "    df['pps'] = df['total_packets']/df['duration']\n",
    "    df['bps_onedir'] = df['bytes_onedir']/ df['total_packets']\n",
    "    df['bpp_onedir'] = df['bytes_onedir']/ df['duration']\n",
    "    df['bps_bothdir'] = df['bytes_bothdir']/ df['total_packets']\n",
    "    df['bpp_bothdir'] = df['bytes_bothdir']/ df['duration']    \n",
    "    return df\n",
    "\n",
    "def cnt_timed_src(df, df_original):  \n",
    "    src_time_diff_dict = df_original.groupby('src_ip')['src_time_diff'].sum().to_dict()\n",
    "    #dst_cnt_dict = df_original.groupby('src_ip')['dst_ip'].count().to_dict()\n",
    "\n",
    "    df['cnt_timed_src']=df.apply(lambda x: src_time_diff_dict[x.src_ip], axis=1)\n",
    "    #df['cnt_dst']=df.apply(lambda x: dst_cnt_dict[x.src_ip], axis=1)\n",
    "    return df\n",
    "\n",
    "def cnt_timed_dst(df, df_original ):\n",
    "    dst_time_diff_dict = df_original.groupby('dst_ip')['dst_time_diff'].sum().to_dict()\n",
    "    #src_cnt_dict = df_original.groupby('dst_ip')['src_ip'].count().to_dict()\n",
    "    df['cnt_timed_dst']=df.apply(lambda x: dst_time_diff_dict[x.dst_ip], axis=1)\n",
    "    #df['cnt_src']=df.apply(lambda x: src_cnt_dict[x.dst_ip], axis=1)\n",
    "    return df\n",
    "\n",
    "def get_dict(dictionary):\n",
    "    newdict={}\n",
    "    for (k1, k2), count in dictionary.items():\n",
    "        if k1 in newdict:\n",
    "            if count>0:\n",
    "                newdict[k1] +=1\n",
    "        else:\n",
    "            newdict[k1] = 0\n",
    "    return newdict\n",
    "    \n",
    "def cnt_timed_srcdst(df, df_original):    \n",
    "    srcdst_time_diff_dict = df_original.groupby(['src_ip', 'dst_port' ])['srcdst_time_diff'].sum().to_dict() \n",
    "    srcdst_time_diff_dict = get_dict(srcdst_time_diff_dict)\n",
    "    #srcdst_cnt_dict = df_original.groupby(['src_ip', 'dst_port'])['src_ip'].count().to_dict()\n",
    "    #srcdst_cnt_dict = get_dict(srcdst_cnt_dict)\n",
    "    df['cnt_timed_srcdst']=df.apply(lambda x: srcdst_time_diff_dict[x.src_ip], axis=1)\n",
    "    #df['cnt_srcdst']=df.apply(lambda x: srcdst_cnt_dict[x.src_ip], axis=1)\n",
    "    return df"
   ]
  },
  {
   "cell_type": "code",
   "execution_count": 85,
   "metadata": {},
   "outputs": [
    {
     "name": "stdout",
     "output_type": "stream",
     "text": [
      "Wall time: 996 µs\n"
     ]
    }
   ],
   "source": [
    "%%time\n",
    "## ONE HOT CATEGORY FIELD\n",
    "\n",
    "def apply_onehot(df):       \n",
    "    ohe    = OneHotEncoder(handle_unknown='ignore')\n",
    "    \n",
    "    columns_to_encode = [ 'protocol', 'src_ip','src_port', 'dst_ip',  'dst_port'] #, \n",
    "    df_ohe_lst = [] \n",
    "    df_ohe_lst.append(df)\n",
    "    \n",
    "    for column in columns_to_encode:\n",
    "        print('>> encoding: ', column)\n",
    "        colvalues_count = df[column].value_counts()     \n",
    "        len_ccolvalues_count = 0\n",
    "\n",
    "        if column == 'src_ip':\n",
    "            len_ccolvalues_count = 10        \n",
    "        elif column == 'src_port':\n",
    "            len_ccolvalues_count = 10\n",
    "        elif column == 'dst_ip':\n",
    "            len_ccolvalues_count = 10     \n",
    "        elif column == 'dst_port':\n",
    "            len_ccolvalues_count = 10     \n",
    "        elif column == 'protocol':\n",
    "            len_ccolvalues_count = 10          \n",
    "        else:        \n",
    "            len_ccolvalues_count = len(colvalues_count)    \n",
    "\n",
    "        fit_cols = colvalues_count[:len_ccolvalues_count].index.tolist()    \n",
    "        df_fit_cols = pd.DataFrame(fit_cols)    \n",
    "        ohe.fit(df_fit_cols)\n",
    "\n",
    "        encoded_data = ohe.transform(df[column].values.reshape(-1,1)).toarray()    \n",
    "        dfOneHot = pd.DataFrame(encoded_data, columns = [column+str(int(i)) for i in range(encoded_data.shape[1])]) \n",
    "        df_ohe_lst.append(dfOneHot)    \n",
    "\n",
    "    new_df = pd.concat(df_ohe_lst, axis=1)        \n",
    "    #new_df = pd.concat(ohe_df, axis=1) \n",
    "    #new_df = ohe_df.drop(columns_to_encode, axis=1)\n",
    "\n",
    "    return new_df\n"
   ]
  },
  {
   "cell_type": "code",
   "execution_count": 10,
   "metadata": {},
   "outputs": [
    {
     "name": "stdout",
     "output_type": "stream",
     "text": [
      "Wall time: 0 ns\n"
     ]
    }
   ],
   "source": [
    "%%time\n",
    "\n",
    "#basic features: existing numeric columns + pps, bps, bpp\n",
    "def get_feature1(df_original):      \n",
    "    df_original['starttime']=df_original['timestamp'].apply(pd.to_datetime)\n",
    "    df_original['endtime'] = df_original['starttime'] + pd.to_timedelta(df_original['duration'], unit='s')\n",
    "    df_original.loc[df_original['duration']==0, 'duration'] = 0.000001   \n",
    "    convert_to_str(df_original)  \n",
    "    apply_stat(df_original)     "
   ]
  },
  {
   "cell_type": "code",
   "execution_count": 11,
   "metadata": {},
   "outputs": [
    {
     "name": "stdout",
     "output_type": "stream",
     "text": [
      "Wall time: 0 ns\n"
     ]
    }
   ],
   "source": [
    "%%time\n",
    "\n",
    "## adding to feature1 (+ onehot field)\n",
    "def get_feature2(df_original): \n",
    "    df_original = df_original.reset_index(drop=True)\n",
    "    new_df = apply_onehot(df_original)   \n",
    "\n",
    "    return new_df"
   ]
  },
  {
   "cell_type": "code",
   "execution_count": 12,
   "metadata": {},
   "outputs": [
    {
     "name": "stdout",
     "output_type": "stream",
     "text": [
      "Wall time: 0 ns\n"
     ]
    }
   ],
   "source": [
    "%%time\n",
    "\n",
    "## cumulative featrues mostly by grouped by [src_ip, dst_ip, src_port, dst_port, protocol]\n",
    "def get_feature3(flag, df_original):           \n",
    "\n",
    "    df, df_original = preprocess(flag, df_original)\n",
    "    df[['starttime', 'endtime']] = df_original.groupby(['stream_id']).agg(starttime=('timestamp', 'min'), endtime=('timestamp', 'max'))    \n",
    "    df = groupby_sum(df, df_original)    \n",
    "    df = apply_avg(df, df_original)  \n",
    "    get_time_diff(df_original)\n",
    "    df = cnt_timed_src(df, df_original)\n",
    "    df = cnt_timed_dst(df, df_original)\n",
    "    df = cnt_timed_srcdst(df, df_original)   \n",
    "    print(flag , 'DONE')\n",
    "    \n",
    "    return df\n"
   ]
  },
  {
   "cell_type": "code",
   "execution_count": 122,
   "metadata": {},
   "outputs": [
    {
     "name": "stdout",
     "output_type": "stream",
     "text": [
      "Wall time: 0 ns\n"
     ]
    }
   ],
   "source": [
    "%%time\n",
    "\n",
    "## cumulative featrues mostly by grouped by [src_ip, dst_ip, src_port, dst_port, protocol]\n",
    "def get_feature4(flag, df_original):\n",
    "    new_df = get_feature3(flag, df_original)\n",
    "    new_df = new_df.reset_index(drop=True)\n",
    "    new_df = apply_onehot(new_df)             \n",
    "    \n",
    "    return new_df"
   ]
  },
  {
   "cell_type": "code",
   "execution_count": null,
   "metadata": {},
   "outputs": [],
   "source": [
    "## SECTION 3:FEATURE GENERATION PART\n",
    "## !! ONLY RUN FOR FEATURES YOU WANT TO GENERATE (Feature 1,2,3,4)"
   ]
  },
  {
   "cell_type": "code",
   "execution_count": null,
   "metadata": {},
   "outputs": [],
   "source": [
    "### FEATURE GENERATION"
   ]
  },
  {
   "cell_type": "code",
   "execution_count": null,
   "metadata": {},
   "outputs": [],
   "source": [
    "## GENERATE \"FEATURE1\"!"
   ]
  },
  {
   "cell_type": "code",
   "execution_count": 52,
   "metadata": {},
   "outputs": [
    {
     "name": "stdout",
     "output_type": "stream",
     "text": [
      "train len:  27764\n",
      "validation len:  47003\n",
      "test len:  1053845\n",
      "DONE\n"
     ]
    }
   ],
   "source": [
    "df_train_f1 = df_train_original.copy()\n",
    "df_val_f1 = df_val_original.copy()\n",
    "df_test_f1 = df_test_original.copy()\n",
    "\n",
    "get_feature1(df_train_f1) \n",
    "print('train len: ', len(df_train_f1))\n",
    "\n",
    "get_feature1(df_val_f1) \n",
    "print('validation len: ', len(df_val_f1))\n",
    "\n",
    "get_feature1(df_test_f1) \n",
    "print('test len: ', len(df_test_f1))\n",
    "\n",
    "df_train = df_train_f1.copy()\n",
    "df_val = df_val_f1.copy()\n",
    "df_test = df_test_f1.copy()\n",
    "print('DONE')"
   ]
  },
  {
   "cell_type": "code",
   "execution_count": null,
   "metadata": {},
   "outputs": [],
   "source": [
    "## GENERATE FEATURE2"
   ]
  },
  {
   "cell_type": "code",
   "execution_count": 86,
   "metadata": {},
   "outputs": [
    {
     "name": "stdout",
     "output_type": "stream",
     "text": [
      ">> encoding:  protocol\n",
      ">> encoding:  src_ip\n",
      ">> encoding:  src_port\n",
      ">> encoding:  dst_ip\n",
      ">> encoding:  dst_port\n",
      "train len:  27764\n",
      ">> encoding:  protocol\n",
      ">> encoding:  src_ip\n",
      ">> encoding:  src_port\n",
      ">> encoding:  dst_ip\n",
      ">> encoding:  dst_port\n",
      "validation len:  47003\n",
      ">> encoding:  protocol\n",
      ">> encoding:  src_ip\n",
      ">> encoding:  src_port\n",
      ">> encoding:  dst_ip\n",
      ">> encoding:  dst_port\n",
      "test len:  1053845\n",
      "DONE\n"
     ]
    }
   ],
   "source": [
    "df_train_f2 = df_train_f1.copy()\n",
    "df_val_f2 = df_val_f1.copy()\n",
    "df_test_f2 = df_test_f1.copy()\n",
    "\n",
    "df_train_f2 = get_feature2(df_train_f2) \n",
    "print('train len: ', len(df_train_f2))\n",
    "\n",
    "df_val_f2 = get_feature2(df_val_f2) \n",
    "print('validation len: ', len(df_val_f2))\n",
    "\n",
    "df_test_f2 = get_feature2(df_test_f2) \n",
    "print('test len: ', len(df_test_f2))\n",
    "\n",
    "df_train = df_train_f2.copy()\n",
    "df_val = df_val_f2.copy()\n",
    "df_test = df_test_f2.copy()\n",
    "print('DONE')"
   ]
  },
  {
   "cell_type": "code",
   "execution_count": null,
   "metadata": {},
   "outputs": [],
   "source": [
    "## GENERATE FEATURE3"
   ]
  },
  {
   "cell_type": "code",
   "execution_count": 29,
   "metadata": {},
   "outputs": [
    {
     "name": "stdout",
     "output_type": "stream",
     "text": [
      "train DONE\n",
      "train len:  51503\n",
      "val DONE\n",
      "validation len:  41073\n",
      "test DONE\n",
      "test len:  870431\n",
      "DONE\n",
      "Wall time: 5min 27s\n"
     ]
    }
   ],
   "source": [
    "%%time\n",
    "df_train_f3 = df_train_original.copy()\n",
    "df_val_f3 = df_val_original.copy()\n",
    "df_test_f3 = df_test_original.copy()\n",
    "\n",
    "df_train_f3 = get_feature3('train', df_train_f3) \n",
    "print('train len: ', len(df_train_f3))\n",
    "\n",
    "df_val_f3 = get_feature3('val', df_val_f3) \n",
    "print('validation len: ', len(df_val_f3))\n",
    "\n",
    "df_test_f3 = get_feature3('test', df_test_f3) \n",
    "print('test len: ', len(df_test_f3))\n",
    "\n",
    "df_train = df_train_f3.copy()\n",
    "df_val = df_val_f3.copy()\n",
    "df_test = df_test_f3.copy()\n",
    "print('DONE')"
   ]
  },
  {
   "cell_type": "code",
   "execution_count": null,
   "metadata": {},
   "outputs": [],
   "source": []
  },
  {
   "cell_type": "code",
   "execution_count": null,
   "metadata": {},
   "outputs": [],
   "source": [
    "# GENERATE FEATURE 4"
   ]
  },
  {
   "cell_type": "code",
   "execution_count": 123,
   "metadata": {},
   "outputs": [
    {
     "name": "stdout",
     "output_type": "stream",
     "text": [
      "train DONE\n",
      ">> encoding:  protocol\n",
      ">> encoding:  src_ip\n",
      ">> encoding:  src_port\n",
      ">> encoding:  dst_ip\n",
      ">> encoding:  dst_port\n",
      "train len:  26551\n",
      "val DONE\n",
      ">> encoding:  protocol\n",
      ">> encoding:  src_ip\n",
      ">> encoding:  src_port\n",
      ">> encoding:  dst_ip\n",
      ">> encoding:  dst_port\n",
      "validation len:  41073\n",
      "test DONE\n",
      ">> encoding:  protocol\n",
      ">> encoding:  src_ip\n",
      ">> encoding:  src_port\n",
      ">> encoding:  dst_ip\n",
      ">> encoding:  dst_port\n",
      "test len:  870431\n",
      "DONE\n"
     ]
    }
   ],
   "source": [
    "df_train_f4 = df_train_original.copy()\n",
    "df_val_f4 = df_val_original.copy()\n",
    "df_test_f4 = df_test_original.copy()\n",
    "\n",
    "df_train_f4 = get_feature4('train', df_train_f4) \n",
    "print('train len: ', len(df_train_f4))\n",
    "\n",
    "df_val_f4 = get_feature4('val', df_val_f4) \n",
    "print('validation len: ', len(df_val_f4))\n",
    "\n",
    "df_test_f4 = get_feature4('test', df_test_f4) \n",
    "print('test len: ', len(df_test_f4))\n",
    "\n",
    "df_train = df_train_f4.copy()\n",
    "df_val = df_val_f4.copy()\n",
    "df_test = df_test_f4.copy()\n",
    "print('DONE')"
   ]
  },
  {
   "cell_type": "code",
   "execution_count": 124,
   "metadata": {},
   "outputs": [
    {
     "name": "stdout",
     "output_type": "stream",
     "text": [
      "26551\n",
      "870431\n",
      "41073\n",
      "41073\n"
     ]
    }
   ],
   "source": [
    "print(len(df_train))\n",
    "print(len(df_test))\n",
    "print(len(df_val))\n",
    "print(len(df_val[df_val['label']==1]) + len(df_val[df_val['label']==-1]) )"
   ]
  },
  {
   "cell_type": "code",
   "execution_count": null,
   "metadata": {},
   "outputs": [],
   "source": [
    "## SECTION 4:SCALER NUMERICS"
   ]
  },
  {
   "cell_type": "code",
   "execution_count": 14,
   "metadata": {},
   "outputs": [
    {
     "data": {
      "text/plain": [
       "Index(['stream_id', 'src_ip', 'dst_ip', 'src_port', 'dst_port', 'protocol',\n",
       "       'label', 'starttime', 'endtime', 'bytes_bothdir', 'bytes_onedir',\n",
       "       'total_packets', 'duration', 'pps', 'bps_onedir', 'bpp_onedir',\n",
       "       'bps_bothdir', 'bpp_bothdir', 'cnt_timed_src', 'cnt_timed_dst',\n",
       "       'cnt_timed_srcdst'],\n",
       "      dtype='object')"
      ]
     },
     "execution_count": 14,
     "metadata": {},
     "output_type": "execute_result"
    }
   ],
   "source": [
    "df_val.columns"
   ]
  },
  {
   "cell_type": "code",
   "execution_count": 125,
   "metadata": {},
   "outputs": [],
   "source": [
    "feature1 = ['duration', 'total_packets', 'bytes_bothdir', 'bytes_onedir', 'pps','bps_onedir', 'bpp_onedir', 'bps_bothdir', 'bpp_bothdir']\n",
    "\n",
    "feature2 = ['protocol0', 'protocol1', 'protocol2', 'protocol3',\n",
    "       'protocol4', 'src_ip0', 'src_ip1', 'src_ip2', 'src_ip3', 'src_ip4',\n",
    "       'src_ip5', 'src_ip6', 'src_ip7', 'src_ip8', 'src_ip9', 'src_port0',\n",
    "       'src_port1', 'src_port2', 'src_port3', 'src_port4', 'src_port5',\n",
    "       'src_port6', 'src_port7', 'src_port8', 'src_port9', 'dst_ip0',\n",
    "       'dst_ip1', 'dst_ip2', 'dst_ip3', 'dst_ip4', 'dst_ip5', 'dst_ip6',\n",
    "       'dst_ip7', 'dst_ip8', 'dst_ip9', 'dst_port0', 'dst_port1', 'dst_port2',\n",
    "       'dst_port3', 'dst_port4', 'dst_port5', 'dst_port6', 'dst_port7',\n",
    "       'dst_port8', 'dst_port9']\n",
    "\n",
    "feature2.extend(feature1)\n",
    "\n",
    "feature3 = ['bytes_bothdir', 'bytes_onedir', 'total_packets', 'duration', \n",
    "             'pps', 'bps_onedir', 'bpp_onedir', 'bps_bothdir', 'bpp_bothdir', \n",
    "             'cnt_timed_src', 'cnt_timed_dst', 'cnt_timed_srcdst']\n",
    "\n",
    "\n",
    "selected_features = feature2\n",
    "columns_to_scale = feature3\n"
   ]
  },
  {
   "cell_type": "code",
   "execution_count": 126,
   "metadata": {},
   "outputs": [
    {
     "name": "stdout",
     "output_type": "stream",
     "text": [
      "Wall time: 992 ms\n"
     ]
    }
   ],
   "source": [
    "%%time\n",
    "scaler = StandardScaler()\n",
    "\n",
    "def apply_scaler(df):\n",
    "    df_columns_to_scale = df[columns_to_scale]\n",
    "    train_scaled_features  = scaler.fit_transform(df_columns_to_scale) \n",
    "    train_scaled_features_df = pd.DataFrame( train_scaled_features, index=df_columns_to_scale.index, columns=columns_to_scale)\n",
    "\n",
    "    return train_scaled_features_df\n",
    "\n",
    "df_train[columns_to_scale] = apply_scaler(df_train)\n",
    "df_val[columns_to_scale] = apply_scaler(df_val)\n",
    "df_test[columns_to_scale] = apply_scaler(df_test)"
   ]
  },
  {
   "cell_type": "code",
   "execution_count": 127,
   "metadata": {},
   "outputs": [],
   "source": [
    "X_train_ori = df_train[selected_features]\n",
    "X_val_ori = df_val[selected_features]\n",
    "X_test_ori = df_test[selected_features]\n",
    "val_label_ori = df_val['label']\n",
    "val_label = np.array(val_label_ori)"
   ]
  },
  {
   "cell_type": "code",
   "execution_count": 128,
   "metadata": {},
   "outputs": [
    {
     "data": {
      "text/html": [
       "<div>\n",
       "<style scoped>\n",
       "    .dataframe tbody tr th:only-of-type {\n",
       "        vertical-align: middle;\n",
       "    }\n",
       "\n",
       "    .dataframe tbody tr th {\n",
       "        vertical-align: top;\n",
       "    }\n",
       "\n",
       "    .dataframe thead th {\n",
       "        text-align: right;\n",
       "    }\n",
       "</style>\n",
       "<table border=\"1\" class=\"dataframe\">\n",
       "  <thead>\n",
       "    <tr style=\"text-align: right;\">\n",
       "      <th></th>\n",
       "      <th>protocol0</th>\n",
       "      <th>protocol1</th>\n",
       "      <th>protocol2</th>\n",
       "      <th>protocol3</th>\n",
       "      <th>protocol4</th>\n",
       "      <th>src_ip0</th>\n",
       "      <th>src_ip1</th>\n",
       "      <th>src_ip2</th>\n",
       "      <th>src_ip3</th>\n",
       "      <th>src_ip4</th>\n",
       "      <th>...</th>\n",
       "      <th>dst_port9</th>\n",
       "      <th>duration</th>\n",
       "      <th>total_packets</th>\n",
       "      <th>bytes_bothdir</th>\n",
       "      <th>bytes_onedir</th>\n",
       "      <th>pps</th>\n",
       "      <th>bps_onedir</th>\n",
       "      <th>bpp_onedir</th>\n",
       "      <th>bps_bothdir</th>\n",
       "      <th>bpp_bothdir</th>\n",
       "    </tr>\n",
       "  </thead>\n",
       "  <tbody>\n",
       "    <tr>\n",
       "      <th>0</th>\n",
       "      <td>0.0</td>\n",
       "      <td>0.0</td>\n",
       "      <td>0.0</td>\n",
       "      <td>0.0</td>\n",
       "      <td>0.0</td>\n",
       "      <td>0.0</td>\n",
       "      <td>0.0</td>\n",
       "      <td>0.0</td>\n",
       "      <td>0.0</td>\n",
       "      <td>0.0</td>\n",
       "      <td>...</td>\n",
       "      <td>1.0</td>\n",
       "      <td>-0.241746</td>\n",
       "      <td>-0.012116</td>\n",
       "      <td>-0.013608</td>\n",
       "      <td>-0.007135</td>\n",
       "      <td>-0.255804</td>\n",
       "      <td>-0.194463</td>\n",
       "      <td>-0.198838</td>\n",
       "      <td>-0.449123</td>\n",
       "      <td>-0.201012</td>\n",
       "    </tr>\n",
       "    <tr>\n",
       "      <th>1</th>\n",
       "      <td>0.0</td>\n",
       "      <td>0.0</td>\n",
       "      <td>0.0</td>\n",
       "      <td>0.0</td>\n",
       "      <td>0.0</td>\n",
       "      <td>0.0</td>\n",
       "      <td>0.0</td>\n",
       "      <td>0.0</td>\n",
       "      <td>0.0</td>\n",
       "      <td>0.0</td>\n",
       "      <td>...</td>\n",
       "      <td>0.0</td>\n",
       "      <td>-0.243130</td>\n",
       "      <td>-0.014583</td>\n",
       "      <td>-0.013861</td>\n",
       "      <td>-0.007307</td>\n",
       "      <td>-0.240470</td>\n",
       "      <td>-0.231256</td>\n",
       "      <td>-0.197383</td>\n",
       "      <td>-0.543864</td>\n",
       "      <td>-0.198536</td>\n",
       "    </tr>\n",
       "    <tr>\n",
       "      <th>2</th>\n",
       "      <td>0.0</td>\n",
       "      <td>0.0</td>\n",
       "      <td>0.0</td>\n",
       "      <td>0.0</td>\n",
       "      <td>0.0</td>\n",
       "      <td>0.0</td>\n",
       "      <td>0.0</td>\n",
       "      <td>0.0</td>\n",
       "      <td>0.0</td>\n",
       "      <td>0.0</td>\n",
       "      <td>...</td>\n",
       "      <td>0.0</td>\n",
       "      <td>-0.243131</td>\n",
       "      <td>-0.014830</td>\n",
       "      <td>-0.013883</td>\n",
       "      <td>-0.007314</td>\n",
       "      <td>1.964145</td>\n",
       "      <td>-0.066624</td>\n",
       "      <td>0.127602</td>\n",
       "      <td>-0.595328</td>\n",
       "      <td>0.099577</td>\n",
       "    </tr>\n",
       "    <tr>\n",
       "      <th>3</th>\n",
       "      <td>0.0</td>\n",
       "      <td>0.0</td>\n",
       "      <td>0.0</td>\n",
       "      <td>0.0</td>\n",
       "      <td>0.0</td>\n",
       "      <td>0.0</td>\n",
       "      <td>0.0</td>\n",
       "      <td>0.0</td>\n",
       "      <td>0.0</td>\n",
       "      <td>0.0</td>\n",
       "      <td>...</td>\n",
       "      <td>0.0</td>\n",
       "      <td>-0.234292</td>\n",
       "      <td>-0.013597</td>\n",
       "      <td>-0.013786</td>\n",
       "      <td>-0.007258</td>\n",
       "      <td>-0.255831</td>\n",
       "      <td>-0.267425</td>\n",
       "      <td>-0.198841</td>\n",
       "      <td>-0.541525</td>\n",
       "      <td>-0.201017</td>\n",
       "    </tr>\n",
       "    <tr>\n",
       "      <th>4</th>\n",
       "      <td>0.0</td>\n",
       "      <td>0.0</td>\n",
       "      <td>0.0</td>\n",
       "      <td>0.0</td>\n",
       "      <td>0.0</td>\n",
       "      <td>0.0</td>\n",
       "      <td>0.0</td>\n",
       "      <td>0.0</td>\n",
       "      <td>0.0</td>\n",
       "      <td>0.0</td>\n",
       "      <td>...</td>\n",
       "      <td>0.0</td>\n",
       "      <td>4.552437</td>\n",
       "      <td>-0.014090</td>\n",
       "      <td>-0.013824</td>\n",
       "      <td>-0.007282</td>\n",
       "      <td>-0.255833</td>\n",
       "      <td>-0.257447</td>\n",
       "      <td>-0.198841</td>\n",
       "      <td>-0.543864</td>\n",
       "      <td>-0.201018</td>\n",
       "    </tr>\n",
       "  </tbody>\n",
       "</table>\n",
       "<p>5 rows × 54 columns</p>\n",
       "</div>"
      ],
      "text/plain": [
       "   protocol0  protocol1  protocol2  protocol3  protocol4  src_ip0  src_ip1  \\\n",
       "0        0.0        0.0        0.0        0.0        0.0      0.0      0.0   \n",
       "1        0.0        0.0        0.0        0.0        0.0      0.0      0.0   \n",
       "2        0.0        0.0        0.0        0.0        0.0      0.0      0.0   \n",
       "3        0.0        0.0        0.0        0.0        0.0      0.0      0.0   \n",
       "4        0.0        0.0        0.0        0.0        0.0      0.0      0.0   \n",
       "\n",
       "   src_ip2  src_ip3  src_ip4  ...  dst_port9  duration  total_packets  \\\n",
       "0      0.0      0.0      0.0  ...        1.0 -0.241746      -0.012116   \n",
       "1      0.0      0.0      0.0  ...        0.0 -0.243130      -0.014583   \n",
       "2      0.0      0.0      0.0  ...        0.0 -0.243131      -0.014830   \n",
       "3      0.0      0.0      0.0  ...        0.0 -0.234292      -0.013597   \n",
       "4      0.0      0.0      0.0  ...        0.0  4.552437      -0.014090   \n",
       "\n",
       "   bytes_bothdir  bytes_onedir       pps  bps_onedir  bpp_onedir  bps_bothdir  \\\n",
       "0      -0.013608     -0.007135 -0.255804   -0.194463   -0.198838    -0.449123   \n",
       "1      -0.013861     -0.007307 -0.240470   -0.231256   -0.197383    -0.543864   \n",
       "2      -0.013883     -0.007314  1.964145   -0.066624    0.127602    -0.595328   \n",
       "3      -0.013786     -0.007258 -0.255831   -0.267425   -0.198841    -0.541525   \n",
       "4      -0.013824     -0.007282 -0.255833   -0.257447   -0.198841    -0.543864   \n",
       "\n",
       "   bpp_bothdir  \n",
       "0    -0.201012  \n",
       "1    -0.198536  \n",
       "2     0.099577  \n",
       "3    -0.201017  \n",
       "4    -0.201018  \n",
       "\n",
       "[5 rows x 54 columns]"
      ]
     },
     "execution_count": 128,
     "metadata": {},
     "output_type": "execute_result"
    }
   ],
   "source": [
    "X_train_ori.head()"
   ]
  },
  {
   "cell_type": "code",
   "execution_count": null,
   "metadata": {},
   "outputs": [],
   "source": []
  },
  {
   "cell_type": "code",
   "execution_count": null,
   "metadata": {},
   "outputs": [],
   "source": [
    "## SECTION 5: CLUSTERING UTIL FUNCTIONS"
   ]
  },
  {
   "cell_type": "code",
   "execution_count": 119,
   "metadata": {},
   "outputs": [],
   "source": [
    "def get_pc(X, num_components=2, tsne=False):\n",
    "    if tsne:\n",
    "        reduced_data = TSNE(n_components=num_components).fit_transform(X)\n",
    "    else:\n",
    "        pca = PCA(n_components=num_components, random_state=42).fit(X)\n",
    "        print(\"PCA.explained variance_ratio_ :\",sum(pca.explained_variance_ratio_) )\n",
    "        reduced_data = pca.transform(X)\n",
    "    \n",
    "    return reduced_data\n",
    "\n",
    "def save(df, name, mode=\"outputs\"):\n",
    "    output_columns = [ 'starttime', 'endtime', 'src_ip', 'dst_ip', 'src_port', 'dst_port', 'protocol' ]\n",
    "    df = df[output_columns]\n",
    "    df.to_csv(mode+\"/\" + name + \".csv\")\n",
    "    \n",
    "def get_anomalies(original_df, labels):\n",
    "    original_df['label'] = labels\n",
    "    return original_df[original_df.label==-1]\n",
    "\n",
    "def clustering_print_results(original_df, labels, features, X=None,print_out=True, plot_out=False,label=\"label\"):\n",
    "\n",
    "    print(\"\\nExporting \"+label.upper()+\"!\")\n",
    "    original_df['label'] = labels\n",
    "\n",
    "    # group clusters\n",
    "    clusters = original_df.groupby('label')\n",
    "    clusters_log=pd.DataFrame(columns=original_df.columns)\n",
    "    print(\"Number of clusters:\", len(set(labels)))\n",
    "    \n",
    "    if (plot_out):\n",
    "        original_df['x'] = X[:, 0] \n",
    "        original_df['y'] = X[:, 1] \n",
    "        \n",
    "        # colors\n",
    "        all_colors = [k for k,v in pltc.cnames.items()]\n",
    "        colors = sample(all_colors, len(clusters))\n",
    "        fig, ax = plt.subplots()\n",
    "        indexColor = 0\n",
    "        for key,cluster in clusters:\n",
    "            cluster.plot(ax=ax, kind='scatter', x='x', y='y', alpha=0.5, s=10,label='Label: {:d}'.format(key), color=colors[indexColor])\n",
    "            indexColor+=1\n",
    "\n",
    "    if (print_out):\n",
    "        for key, cluster in clusters:\n",
    "            print('\\Label {:d}: {:d} data points'.format(key, len(cluster)))\n",
    "            clusters_log=pd.concat([clusters_log,cluster.head(100)],sort=False)\n",
    "\n",
    "    print(\"\\n\"+\"DONE.\")"
   ]
  },
  {
   "cell_type": "code",
   "execution_count": null,
   "metadata": {},
   "outputs": [],
   "source": []
  },
  {
   "cell_type": "code",
   "execution_count": 30,
   "metadata": {},
   "outputs": [],
   "source": [
    "## SECTION 6: HYPERPARAMETER TUNING "
   ]
  },
  {
   "cell_type": "code",
   "execution_count": 31,
   "metadata": {},
   "outputs": [],
   "source": [
    "#### HYPERPARAM TUNING UTIL FUNCTIONS"
   ]
  },
  {
   "cell_type": "code",
   "execution_count": 20,
   "metadata": {},
   "outputs": [],
   "source": [
    "def perf_measure(y_actual, y_hat):\n",
    "    TP = 0\n",
    "    FP = 0\n",
    "    TN = 0\n",
    "    FN = 0\n",
    "\n",
    "    for i in range(len(y_hat)): \n",
    "        if y_actual[i]==y_hat[i]==-1:\n",
    "           TP += 1\n",
    "        if y_hat[i]==-1 and y_actual[i]!=y_hat[i]:\n",
    "           FP += 1\n",
    "        if y_actual[i]==y_hat[i]==1:\n",
    "           TN += 1\n",
    "        if y_hat[i]==1 and y_actual[i]!=y_hat[i]:\n",
    "           FN += 1\n",
    "\n",
    "    return(TP, FP, TN, FN)\n",
    "\n",
    "def print_stats(y_pred):\n",
    "    cnt_pos=0\n",
    "    cnt_neg=0\n",
    "    for y in y_pred:\n",
    "        if y == 1:\n",
    "            cnt_pos+=1\n",
    "        else:\n",
    "            cnt_neg+=1\n",
    "    print('Total: ', len(y_pred))\n",
    "    print('Normal: ', cnt_pos)\n",
    "    print('Anomaly: ', cnt_neg)\n",
    "    \n",
    "def print_result(flag, model, y_true, y_pred, best_acc, best_score, best_param):\n",
    "    (TP, FP, TN, FN) = perf_measure(y_true, y_pred)    \n",
    "    print(TP, FP, TN, FN)    \n",
    "    TPR = TP/(TP+FN)\n",
    "    FPR = FP/(FP+TN)\n",
    "    TPR_FPR_DIFF = TPR - FPR   \n",
    "    accuracy = (TP + TN)/(TP + TN + FP + FN)\n",
    "\n",
    "    #param_dict = model.get_params()\n",
    "    if flag == 'ocsvm':\n",
    "        param_dict = {'kernel': model.get_params()['kernel'], 'gamma': model.get_params()['gamma'], 'nu': model.get_params()['nu']}\n",
    "    else:\n",
    "        param_dict = {'max_samples': model.get_params()['max_samples'], 'contamination': model.get_params()['contamination']}\n",
    "        \n",
    "    if accuracy> 0.88 and TPR_FPR_DIFF > best_score:\n",
    "        best_acc = accuracy\n",
    "        best_score = TPR_FPR_DIFF\n",
    "        best_param = param_dict\n",
    "    \n",
    "    print('TPR_FPR_DIFF: ', TPR_FPR_DIFF, 'accuracy: ', accuracy)\n",
    "    print()    \n",
    "    \n",
    "    return best_acc, best_score, best_param"
   ]
  },
  {
   "cell_type": "code",
   "execution_count": 191,
   "metadata": {},
   "outputs": [],
   "source": [
    "##  TUNING "
   ]
  },
  {
   "cell_type": "code",
   "execution_count": 156,
   "metadata": {},
   "outputs": [
    {
     "name": "stdout",
     "output_type": "stream",
     "text": [
      "26551\n",
      "41073\n"
     ]
    }
   ],
   "source": [
    "X_train_tuning = X_train_ori.copy()\n",
    "X_val_tuning = X_val_ori.copy()\n",
    "val_label_tuning = val_label.copy()\n",
    "\n",
    "X_train_tuning = X_train_tuning.reset_index(drop=True)\n",
    "X_val_tuning = X_val_tuning.reset_index(drop=True)\n",
    "print(len(X_train_tuning))\n",
    "print(len(X_val_tuning))"
   ]
  },
  {
   "cell_type": "code",
   "execution_count": 157,
   "metadata": {},
   "outputs": [
    {
     "data": {
      "text/html": [
       "<div>\n",
       "<style scoped>\n",
       "    .dataframe tbody tr th:only-of-type {\n",
       "        vertical-align: middle;\n",
       "    }\n",
       "\n",
       "    .dataframe tbody tr th {\n",
       "        vertical-align: top;\n",
       "    }\n",
       "\n",
       "    .dataframe thead th {\n",
       "        text-align: right;\n",
       "    }\n",
       "</style>\n",
       "<table border=\"1\" class=\"dataframe\">\n",
       "  <thead>\n",
       "    <tr style=\"text-align: right;\">\n",
       "      <th></th>\n",
       "      <th>protocol0</th>\n",
       "      <th>protocol1</th>\n",
       "      <th>protocol2</th>\n",
       "      <th>protocol3</th>\n",
       "      <th>protocol4</th>\n",
       "      <th>src_ip0</th>\n",
       "      <th>src_ip1</th>\n",
       "      <th>src_ip2</th>\n",
       "      <th>src_ip3</th>\n",
       "      <th>src_ip4</th>\n",
       "      <th>...</th>\n",
       "      <th>dst_port9</th>\n",
       "      <th>duration</th>\n",
       "      <th>total_packets</th>\n",
       "      <th>bytes_bothdir</th>\n",
       "      <th>bytes_onedir</th>\n",
       "      <th>pps</th>\n",
       "      <th>bps_onedir</th>\n",
       "      <th>bpp_onedir</th>\n",
       "      <th>bps_bothdir</th>\n",
       "      <th>bpp_bothdir</th>\n",
       "    </tr>\n",
       "  </thead>\n",
       "  <tbody>\n",
       "    <tr>\n",
       "      <th>0</th>\n",
       "      <td>0.0</td>\n",
       "      <td>0.0</td>\n",
       "      <td>0.0</td>\n",
       "      <td>0.0</td>\n",
       "      <td>0.0</td>\n",
       "      <td>0.0</td>\n",
       "      <td>0.0</td>\n",
       "      <td>0.0</td>\n",
       "      <td>0.0</td>\n",
       "      <td>0.0</td>\n",
       "      <td>...</td>\n",
       "      <td>1.0</td>\n",
       "      <td>-0.241746</td>\n",
       "      <td>-0.012116</td>\n",
       "      <td>-0.013608</td>\n",
       "      <td>-0.007135</td>\n",
       "      <td>-0.255804</td>\n",
       "      <td>-0.194463</td>\n",
       "      <td>-0.198838</td>\n",
       "      <td>-0.449123</td>\n",
       "      <td>-0.201012</td>\n",
       "    </tr>\n",
       "    <tr>\n",
       "      <th>1</th>\n",
       "      <td>0.0</td>\n",
       "      <td>0.0</td>\n",
       "      <td>0.0</td>\n",
       "      <td>0.0</td>\n",
       "      <td>0.0</td>\n",
       "      <td>0.0</td>\n",
       "      <td>0.0</td>\n",
       "      <td>0.0</td>\n",
       "      <td>0.0</td>\n",
       "      <td>0.0</td>\n",
       "      <td>...</td>\n",
       "      <td>0.0</td>\n",
       "      <td>-0.243130</td>\n",
       "      <td>-0.014583</td>\n",
       "      <td>-0.013861</td>\n",
       "      <td>-0.007307</td>\n",
       "      <td>-0.240470</td>\n",
       "      <td>-0.231256</td>\n",
       "      <td>-0.197383</td>\n",
       "      <td>-0.543864</td>\n",
       "      <td>-0.198536</td>\n",
       "    </tr>\n",
       "    <tr>\n",
       "      <th>2</th>\n",
       "      <td>0.0</td>\n",
       "      <td>0.0</td>\n",
       "      <td>0.0</td>\n",
       "      <td>0.0</td>\n",
       "      <td>0.0</td>\n",
       "      <td>0.0</td>\n",
       "      <td>0.0</td>\n",
       "      <td>0.0</td>\n",
       "      <td>0.0</td>\n",
       "      <td>0.0</td>\n",
       "      <td>...</td>\n",
       "      <td>0.0</td>\n",
       "      <td>-0.243131</td>\n",
       "      <td>-0.014830</td>\n",
       "      <td>-0.013883</td>\n",
       "      <td>-0.007314</td>\n",
       "      <td>1.964145</td>\n",
       "      <td>-0.066624</td>\n",
       "      <td>0.127602</td>\n",
       "      <td>-0.595328</td>\n",
       "      <td>0.099577</td>\n",
       "    </tr>\n",
       "    <tr>\n",
       "      <th>3</th>\n",
       "      <td>0.0</td>\n",
       "      <td>0.0</td>\n",
       "      <td>0.0</td>\n",
       "      <td>0.0</td>\n",
       "      <td>0.0</td>\n",
       "      <td>0.0</td>\n",
       "      <td>0.0</td>\n",
       "      <td>0.0</td>\n",
       "      <td>0.0</td>\n",
       "      <td>0.0</td>\n",
       "      <td>...</td>\n",
       "      <td>0.0</td>\n",
       "      <td>-0.234292</td>\n",
       "      <td>-0.013597</td>\n",
       "      <td>-0.013786</td>\n",
       "      <td>-0.007258</td>\n",
       "      <td>-0.255831</td>\n",
       "      <td>-0.267425</td>\n",
       "      <td>-0.198841</td>\n",
       "      <td>-0.541525</td>\n",
       "      <td>-0.201017</td>\n",
       "    </tr>\n",
       "    <tr>\n",
       "      <th>4</th>\n",
       "      <td>0.0</td>\n",
       "      <td>0.0</td>\n",
       "      <td>0.0</td>\n",
       "      <td>0.0</td>\n",
       "      <td>0.0</td>\n",
       "      <td>0.0</td>\n",
       "      <td>0.0</td>\n",
       "      <td>0.0</td>\n",
       "      <td>0.0</td>\n",
       "      <td>0.0</td>\n",
       "      <td>...</td>\n",
       "      <td>0.0</td>\n",
       "      <td>4.552437</td>\n",
       "      <td>-0.014090</td>\n",
       "      <td>-0.013824</td>\n",
       "      <td>-0.007282</td>\n",
       "      <td>-0.255833</td>\n",
       "      <td>-0.257447</td>\n",
       "      <td>-0.198841</td>\n",
       "      <td>-0.543864</td>\n",
       "      <td>-0.201018</td>\n",
       "    </tr>\n",
       "  </tbody>\n",
       "</table>\n",
       "<p>5 rows × 54 columns</p>\n",
       "</div>"
      ],
      "text/plain": [
       "   protocol0  protocol1  protocol2  protocol3  protocol4  src_ip0  src_ip1  \\\n",
       "0        0.0        0.0        0.0        0.0        0.0      0.0      0.0   \n",
       "1        0.0        0.0        0.0        0.0        0.0      0.0      0.0   \n",
       "2        0.0        0.0        0.0        0.0        0.0      0.0      0.0   \n",
       "3        0.0        0.0        0.0        0.0        0.0      0.0      0.0   \n",
       "4        0.0        0.0        0.0        0.0        0.0      0.0      0.0   \n",
       "\n",
       "   src_ip2  src_ip3  src_ip4  ...  dst_port9  duration  total_packets  \\\n",
       "0      0.0      0.0      0.0  ...        1.0 -0.241746      -0.012116   \n",
       "1      0.0      0.0      0.0  ...        0.0 -0.243130      -0.014583   \n",
       "2      0.0      0.0      0.0  ...        0.0 -0.243131      -0.014830   \n",
       "3      0.0      0.0      0.0  ...        0.0 -0.234292      -0.013597   \n",
       "4      0.0      0.0      0.0  ...        0.0  4.552437      -0.014090   \n",
       "\n",
       "   bytes_bothdir  bytes_onedir       pps  bps_onedir  bpp_onedir  bps_bothdir  \\\n",
       "0      -0.013608     -0.007135 -0.255804   -0.194463   -0.198838    -0.449123   \n",
       "1      -0.013861     -0.007307 -0.240470   -0.231256   -0.197383    -0.543864   \n",
       "2      -0.013883     -0.007314  1.964145   -0.066624    0.127602    -0.595328   \n",
       "3      -0.013786     -0.007258 -0.255831   -0.267425   -0.198841    -0.541525   \n",
       "4      -0.013824     -0.007282 -0.255833   -0.257447   -0.198841    -0.543864   \n",
       "\n",
       "   bpp_bothdir  \n",
       "0    -0.201012  \n",
       "1    -0.198536  \n",
       "2     0.099577  \n",
       "3    -0.201017  \n",
       "4    -0.201018  \n",
       "\n",
       "[5 rows x 54 columns]"
      ]
     },
     "execution_count": 157,
     "metadata": {},
     "output_type": "execute_result"
    }
   ],
   "source": [
    "## without PCA\n",
    "X_train_tuning.head()"
   ]
  },
  {
   "cell_type": "code",
   "execution_count": 158,
   "metadata": {},
   "outputs": [
    {
     "name": "stdout",
     "output_type": "stream",
     "text": [
      "PCA.explained variance_ratio_ : 0.8505886924542188\n",
      "PCA.explained variance_ratio_ : 0.8495007721308345\n"
     ]
    }
   ],
   "source": [
    "X_train_tuning = get_pc(X_train_tuning, 5)\n",
    "X_val_tuning = get_pc(X_val_tuning, 5)"
   ]
  },
  {
   "cell_type": "code",
   "execution_count": 159,
   "metadata": {
    "scrolled": true
   },
   "outputs": [
    {
     "name": "stdout",
     "output_type": "stream",
     "text": [
      "now... >>  1 / 40\n",
      "index:  1 , kernel:  rbf , gamma:  scale , nu:  0.05\n",
      "38007 2619 183 264\n",
      "TPR_FPR_DIFF:  0.0584123189535779 accuracy:  0.9298079030019721\n",
      "\n",
      "now... >>  2 / 40\n",
      "index:  2 , kernel:  rbf , gamma:  scale , nu:  0.07\n",
      "38053 2673 129 218\n",
      "TPR_FPR_DIFF:  0.040342324827947085 accuracy:  0.9296131278455433\n",
      "\n",
      "now... >>  3 / 40\n",
      "index:  3 , kernel:  rbf , gamma:  scale , nu:  0.1\n",
      "38079 2682 120 192\n",
      "TPR_FPR_DIFF:  0.03780969897032638 accuracy:  0.9300270250529545\n",
      "\n",
      "now... >>  4 / 40\n",
      "index:  4 , kernel:  rbf , gamma:  scale , nu:  0.13\n",
      "38085 2627 175 186\n",
      "TPR_FPR_DIFF:  0.05759531218728242 accuracy:  0.9315121856207241\n",
      "\n",
      "now... >>  5 / 40\n",
      "index:  5 , kernel:  rbf , gamma:  scale , nu:  0.15\n",
      "37923 2422 380 348\n",
      "TPR_FPR_DIFF:  0.1265243691767216 accuracy:  0.9325591020865288\n",
      "\n",
      "now... >>  6 / 40\n",
      "index:  6 , kernel:  rbf , gamma:  0.01 , nu:  0.05\n",
      "23825 1764 1038 14446\n",
      "TPR_FPR_DIFF:  -0.007016287596676829 accuracy:  0.605336839286149\n",
      "\n",
      "now... >>  7 / 40\n",
      "index:  7 , kernel:  rbf , gamma:  0.01 , nu:  0.07\n",
      "23870 1791 1011 14401\n",
      "TPR_FPR_DIFF:  -0.015476436863510967 accuracy:  0.6057750833881138\n",
      "\n",
      "now... >>  8 / 40\n",
      "index:  8 , kernel:  rbf , gamma:  0.01 , nu:  0.1\n",
      "23593 1653 1149 14678\n",
      "TPR_FPR_DIFF:  0.02653624212808492 accuracy:  0.6023908650451635\n",
      "\n",
      "now... >>  9 / 40\n",
      "index:  9 , kernel:  rbf , gamma:  0.01 , nu:  0.13\n",
      "23293 1470 1332 14978\n",
      "TPR_FPR_DIFF:  0.08400790105187528 accuracy:  0.5995422783823924\n",
      "\n",
      "now... >>  10 / 40\n",
      "index:  10 , kernel:  rbf , gamma:  0.01 , nu:  0.15\n",
      "25985 1396 1406 12286\n",
      "TPR_FPR_DIFF:  0.18075807507565927 accuracy:  0.666885788717649\n",
      "\n",
      "now... >>  11 / 40\n",
      "index:  11 , kernel:  rbf , gamma:  0.03 , nu:  0.05\n",
      "23171 711 2091 15100\n",
      "TPR_FPR_DIFF:  0.35169805305418805 accuracy:  0.6150512502130353\n",
      "\n",
      "now... >>  12 / 40\n",
      "index:  12 , kernel:  rbf , gamma:  0.03 , nu:  0.07\n",
      "22965 671 2131 15306\n",
      "TPR_FPR_DIFF:  0.3605909048156903 accuracy:  0.6110096657171378\n",
      "\n",
      "now... >>  13 / 40\n",
      "index:  13 , kernel:  rbf , gamma:  0.03 , nu:  0.1\n",
      "22765 626 2176 15506\n",
      "TPR_FPR_DIFF:  0.37142497293476245 accuracy:  0.6072358970613299\n",
      "\n",
      "now... >>  14 / 40\n",
      "index:  14 , kernel:  rbf , gamma:  0.03 , nu:  0.13\n",
      "31766 445 2357 6505\n",
      "TPR_FPR_DIFF:  0.6712128264579043 accuracy:  0.8307890828524822\n",
      "\n",
      "now... >>  15 / 40\n",
      "index:  15 , kernel:  rbf , gamma:  0.03 , nu:  0.15\n",
      "31783 438 2364 6488\n",
      "TPR_FPR_DIFF:  0.6741552425878402 accuracy:  0.8313734083217685\n",
      "\n",
      "now... >>  16 / 40\n",
      "index:  16 , kernel:  rbf , gamma:  0.05 , nu:  0.05\n",
      "33898 1031 1771 4373\n",
      "TPR_FPR_DIFF:  0.5177844725855401 accuracy:  0.8684293818323473\n",
      "\n",
      "now... >>  17 / 40\n",
      "index:  17 , kernel:  rbf , gamma:  0.05 , nu:  0.07\n",
      "34104 951 1851 4167\n",
      "TPR_FPR_DIFF:  0.5517181732865644 accuracy:  0.8753925936746768\n",
      "\n",
      "now... >>  18 / 40\n",
      "index:  18 , kernel:  rbf , gamma:  0.05 , nu:  0.1\n",
      "33964 846 1956 4307\n",
      "TPR_FPR_DIFF:  0.5855332843532126 accuracy:  0.8745404523653008\n",
      "\n",
      "now... >>  19 / 40\n",
      "index:  19 , kernel:  rbf , gamma:  0.05 , nu:  0.13\n",
      "33164 598 2204 5107\n",
      "TPR_FPR_DIFF:  0.6531379365582664 accuracy:  0.8611009665717138\n",
      "\n",
      "now... >>  20 / 40\n",
      "index:  20 , kernel:  rbf , gamma:  0.05 , nu:  0.15\n",
      "33060 583 2219 5211\n",
      "TPR_FPR_DIFF:  0.655773793307807 accuracy:  0.8589340929564434\n",
      "\n",
      "now... >>  21 / 40\n",
      "index:  21 , kernel:  rbf , gamma:  0.07 , nu:  0.05\n",
      "36607 1609 1193 1664\n",
      "TPR_FPR_DIFF:  0.38228791213255053 accuracy:  0.9203126141260682\n",
      "\n",
      "now... >>  22 / 40\n",
      "index:  22 , kernel:  rbf , gamma:  0.07 , nu:  0.07\n",
      "36365 1480 1322 1906\n",
      "TPR_FPR_DIFF:  0.4220031302739726 accuracy:  0.9175614150415115\n",
      "\n",
      "now... >>  23 / 40\n",
      "index:  23 , kernel:  rbf , gamma:  0.07 , nu:  0.1\n",
      "36060 1397 1405 2211\n",
      "TPR_FPR_DIFF:  0.4436553482526311 accuracy:  0.9121564044506123\n",
      "\n",
      "now... >>  24 / 40\n",
      "index:  24 , kernel:  rbf , gamma:  0.07 , nu:  0.13\n",
      "35717 1284 1518 2554\n",
      "TPR_FPR_DIFF:  0.47502128542659006 accuracy:  0.9065566187032844\n",
      "\n",
      "now... >>  25 / 40\n",
      "index:  25 , kernel:  rbf , gamma:  0.07 , nu:  0.15\n",
      "35331 1156 1646 2940\n",
      "TPR_FPR_DIFF:  0.5106169755116741 accuracy:  0.9002751199084557\n",
      "\n",
      "now... >>  26 / 40\n",
      "index:  26 , kernel:  rbf , gamma:  0.1 , nu:  0.05\n",
      "37775 2487 315 496\n",
      "TPR_FPR_DIFF:  0.09945949535928178 accuracy:  0.9273732135466122\n",
      "\n",
      "now... >>  27 / 40\n",
      "index:  27 , kernel:  rbf , gamma:  0.1 , nu:  0.07\n",
      "37886 2464 338 385\n",
      "TPR_FPR_DIFF:  0.11056828633977778 accuracy:  0.9306356974167945\n",
      "\n",
      "now... >>  28 / 40\n",
      "index:  28 , kernel:  rbf , gamma:  0.1 , nu:  0.1\n",
      "37860 2431 371 411\n",
      "TPR_FPR_DIFF:  0.1216662226899039 accuracy:  0.9308061256786697\n",
      "\n",
      "now... >>  29 / 40\n",
      "index:  29 , kernel:  rbf , gamma:  0.1 , nu:  0.13\n",
      "37739 2325 477 532\n",
      "TPR_FPR_DIFF:  0.15633468115390536 accuracy:  0.9304409222603657\n",
      "\n",
      "now... >>  30 / 40\n",
      "index:  30 , kernel:  rbf , gamma:  0.1 , nu:  0.15\n",
      "37423 2147 655 848\n",
      "TPR_FPR_DIFF:  0.21160382926740695 accuracy:  0.9270810508119689\n",
      "\n",
      "now... >>  31 / 40\n",
      "index:  31 , kernel:  rbf , gamma:  0.13 , nu:  0.05\n",
      "38122 2740 62 149\n",
      "TPR_FPR_DIFF:  0.018233764760129167 accuracy:  0.9296618216346505\n",
      "\n",
      "now... >>  32 / 40\n",
      "index:  32 , kernel:  rbf , gamma:  0.13 , nu:  0.07\n",
      "38163 2740 62 108\n",
      "TPR_FPR_DIFF:  0.01930507201627607 accuracy:  0.9306600443113481\n",
      "\n",
      "now... >>  33 / 40\n",
      "index:  33 , kernel:  rbf , gamma:  0.13 , nu:  0.1\n",
      "38209 2739 63 62\n",
      "TPR_FPR_DIFF:  0.020863914435970132 accuracy:  0.9318043483553673\n",
      "\n",
      "now... >>  34 / 40\n",
      "index:  34 , kernel:  rbf , gamma:  0.13 , nu:  0.13\n",
      "38189 2715 87 82\n",
      "TPR_FPR_DIFF:  0.028906636023038 accuracy:  0.9319017359335817\n",
      "\n",
      "now... >>  35 / 40\n",
      "index:  35 , kernel:  rbf , gamma:  0.13 , nu:  0.15\n",
      "38180 2699 103 91\n",
      "TPR_FPR_DIFF:  0.03438167801059466 accuracy:  0.9320721641954569\n",
      "\n",
      "now... >>  36 / 40\n",
      "index:  36 , kernel:  rbf , gamma:  0.15 , nu:  0.05\n",
      "38144 2771 31 127\n",
      "TPR_FPR_DIFF:  0.007745086503291088 accuracy:  0.9294426995836681\n",
      "\n",
      "now... >>  37 / 40\n",
      "index:  37 , kernel:  rbf , gamma:  0.15 , nu:  0.07\n",
      "38207 2773 29 64\n",
      "TPR_FPR_DIFF:  0.008677465681043883 accuracy:  0.9309278601514377\n",
      "\n",
      "now... >>  38 / 40\n",
      "index:  38 , kernel:  rbf , gamma:  0.15 , nu:  0.1\n",
      "38224 2773 29 47\n",
      "TPR_FPR_DIFF:  0.009121666250665794 accuracy:  0.9313417573588488\n",
      "\n",
      "now... >>  39 / 40\n",
      "index:  39 , kernel:  rbf , gamma:  0.15 , nu:  0.13\n",
      "38232 2774 28 39\n",
      "TPR_FPR_DIFF:  0.008973813875653103 accuracy:  0.9315121856207241\n",
      "\n",
      "now... >>  40 / 40\n",
      "index:  40 , kernel:  rbf , gamma:  0.15 , nu:  0.15\n",
      "38244 2747 55 27\n",
      "TPR_FPR_DIFF:  0.01892334152298414 accuracy:  0.9324617145083145\n",
      "\n",
      "==========================\n",
      "best score:  0.5106169755116741  || best ACC:  0.9002751199084557  || best param:  {'kernel': 'rbf', 'gamma': 0.07, 'nu': 0.15}\n",
      "Wall time: 5min 10s\n"
     ]
    }
   ],
   "source": [
    "%%time\n",
    "from sklearn.metrics import  accuracy_score, f1_score, classification_report\n",
    "import itertools \n",
    "import time\n",
    "\n",
    "best_acc = 0\n",
    "best_score = 0\n",
    "ocsvm_best_param = None\n",
    "\n",
    "kernel =  ['rbf'] #poly, 'linear'\n",
    "gamma= ['scale', 0.01, 0.03, 0.05, 0.07, 0.1, 0.13, 0.15 ] #0.001 auto, 'scale',\n",
    "nu = [0.05, 0.07, 0.1, 0.13, 0.15]\n",
    "parameters = [kernel, gamma, nu]\n",
    "\n",
    "ocsvm_allConfgs = list(itertools.product(*parameters))\n",
    "counter = 0\n",
    "\n",
    "for conf in ocsvm_allConfgs:\n",
    "    _kernel,_gamma,_nu = conf    \n",
    "    counter+=1\n",
    "    print('now... >> ', counter , '/', len(ocsvm_allConfgs))\n",
    "    print('index: ', counter,', kernel: ', _kernel, ', gamma: ', _gamma, ', nu: ', _nu)    \n",
    "    model_ocsvm=svm.OneClassSVM(nu=_nu, kernel=_kernel, gamma=_gamma)  \n",
    "    \n",
    "    #start = time.time()\n",
    "    model_ocsvm.fit(X_train_tuning)    \n",
    "    #end = time.time()\n",
    "    #print(\"fit: \", end - start)\n",
    "    \n",
    "    #start = time.time()\n",
    "    y_pred = model_ocsvm.predict(X_val_tuning)\n",
    "    #end = time.time()\n",
    "    #print(\"predict: \", end - start)\n",
    "    \n",
    "    y_true = val_label_tuning\n",
    "    best_acc, best_score, ocsvm_best_param = print_result('ocsvm', model_ocsvm, y_true, y_pred, best_acc, best_score, ocsvm_best_param)\n",
    "        \n",
    "print(\"==========================\") \n",
    "print(\"best score: \", best_score, ' || best ACC: ', best_acc, ' || best param: ', ocsvm_best_param ) \n"
   ]
  },
  {
   "cell_type": "code",
   "execution_count": 160,
   "metadata": {},
   "outputs": [
    {
     "name": "stdout",
     "output_type": "stream",
     "text": [
      "now... >>  1 / 20\n",
      "index:  1 , max_samples:  auto , contamination:  auto\n",
      "14389 720 2082 23882\n",
      "TPR_FPR_DIFF:  0.11901727324187578 accuracy:  0.40101770019234045\n",
      "\n",
      "now... >>  2 / 20\n",
      "index:  2 , max_samples:  auto , contamination:  0.1\n",
      "7331 296 2506 30940\n",
      "TPR_FPR_DIFF:  0.08591613388056338 accuracy:  0.23950040172376014\n",
      "\n",
      "now... >>  3 / 20\n",
      "index:  3 , max_samples:  auto , contamination:  0.3\n",
      "35424 2069 733 2847\n",
      "TPR_FPR_DIFF:  0.1872083272695676 accuracy:  0.880310666374504\n",
      "\n",
      "now... >>  4 / 20\n",
      "index:  4 , max_samples:  auto , contamination:  0.5\n",
      "38271 2802 0 0\n",
      "TPR_FPR_DIFF:  0.0 accuracy:  0.9317800014608136\n",
      "\n",
      "now... >>  5 / 20\n",
      "index:  5 , max_samples:  0.2 , contamination:  auto\n",
      "14480 806 1996 23791\n",
      "TPR_FPR_DIFF:  0.09070269016347243 accuracy:  0.4011394346651085\n",
      "\n",
      "now... >>  6 / 20\n",
      "index:  6 , max_samples:  0.2 , contamination:  0.1\n",
      "15377 1019 1783 22894\n",
      "TPR_FPR_DIFF:  0.03812367195136096 accuracy:  0.41779271053977063\n",
      "\n",
      "now... >>  7 / 20\n",
      "index:  7 , max_samples:  0.2 , contamination:  0.3\n",
      "38271 2802 0 0\n",
      "TPR_FPR_DIFF:  0.0 accuracy:  0.9317800014608136\n",
      "\n",
      "now... >>  8 / 20\n",
      "index:  8 , max_samples:  0.2 , contamination:  0.5\n",
      "38271 2802 0 0\n",
      "TPR_FPR_DIFF:  0.0 accuracy:  0.9317800014608136\n",
      "\n",
      "now... >>  9 / 20\n",
      "index:  9 , max_samples:  0.4 , contamination:  auto\n",
      "14886 708 2094 23385\n",
      "TPR_FPR_DIFF:  0.1362862627882513 accuracy:  0.4134102695201227\n",
      "\n",
      "now... >>  10 / 20\n",
      "index:  10 , max_samples:  0.4 , contamination:  0.1\n",
      "15457 1045 1757 22814\n",
      "TPR_FPR_DIFF:  0.030934941206230304 accuracy:  0.41910744284566503\n",
      "\n",
      "now... >>  11 / 20\n",
      "index:  11 , max_samples:  0.4 , contamination:  0.3\n",
      "38271 2802 0 0\n",
      "TPR_FPR_DIFF:  0.0 accuracy:  0.9317800014608136\n",
      "\n",
      "now... >>  12 / 20\n",
      "index:  12 , max_samples:  0.4 , contamination:  0.5\n",
      "38271 2802 0 0\n",
      "TPR_FPR_DIFF:  0.0 accuracy:  0.9317800014608136\n",
      "\n",
      "now... >>  13 / 20\n",
      "index:  13 , max_samples:  0.6 , contamination:  auto\n",
      "14734 652 2150 23537\n",
      "TPR_FPR_DIFF:  0.15230031158943846 accuracy:  0.4110729676429771\n",
      "\n",
      "now... >>  14 / 20\n",
      "index:  14 , max_samples:  0.6 , contamination:  0.1\n",
      "15242 972 1830 23029\n",
      "TPR_FPR_DIFF:  0.05136992988748057 accuracy:  0.4156501838190539\n",
      "\n",
      "now... >>  15 / 20\n",
      "index:  15 , max_samples:  0.6 , contamination:  0.3\n",
      "38271 2802 0 0\n",
      "TPR_FPR_DIFF:  0.0 accuracy:  0.9317800014608136\n",
      "\n",
      "now... >>  16 / 20\n",
      "index:  16 , max_samples:  0.6 , contamination:  0.5\n",
      "38271 2802 0 0\n",
      "TPR_FPR_DIFF:  0.0 accuracy:  0.9317800014608136\n",
      "\n",
      "now... >>  17 / 20\n",
      "index:  17 , max_samples:  0.8 , contamination:  auto\n",
      "14661 628 2174 23610\n",
      "TPR_FPR_DIFF:  0.15895817257709682 accuracy:  0.40987996980985075\n",
      "\n",
      "now... >>  18 / 20\n",
      "index:  18 , max_samples:  0.8 , contamination:  0.1\n",
      "15618 1078 1724 22653\n",
      "TPR_FPR_DIFF:  0.02336447996780766 accuracy:  0.4222238453485258\n",
      "\n",
      "now... >>  19 / 20\n",
      "index:  19 , max_samples:  0.8 , contamination:  0.3\n",
      "38271 2802 0 0\n",
      "TPR_FPR_DIFF:  0.0 accuracy:  0.9317800014608136\n",
      "\n",
      "now... >>  20 / 20\n",
      "index:  20 , max_samples:  0.8 , contamination:  0.5\n",
      "38271 2802 0 0\n",
      "TPR_FPR_DIFF:  0.0 accuracy:  0.9317800014608136\n",
      "\n",
      "==========================\n",
      "best score:  0.1872083272695676  || best ACC:  0.880310666374504  || best param:  {'max_samples': 'auto', 'contamination': 0.3}\n",
      "Wall time: 58.6 s\n"
     ]
    }
   ],
   "source": [
    "%%time\n",
    "from sklearn.ensemble import IsolationForest\n",
    "\n",
    "max_samples =  ['auto', 0.2, 0.4, 0.6, 0.8] #auto poly, 'linear'\n",
    "contamination = ['auto', 0.1, 0.3, 0.5 ] #auto 0.001\n",
    "#bootstrap = [True, False]\n",
    "\n",
    "parameters = [max_samples, contamination]\n",
    "\n",
    "iforest_allConfgs = list(itertools.product(*parameters))\n",
    "counter = 0\n",
    "\n",
    "best_acc = 0\n",
    "best_score = 0\n",
    "iforest_best_param = None\n",
    "\n",
    "for conf in iforest_allConfgs:\n",
    "    _max_samples, _contam = conf    \n",
    "    counter+=1\n",
    "    print('now... >> ', counter , '/', len(iforest_allConfgs))\n",
    "    print('index: ', counter,', max_samples: ', _max_samples, ', contamination: ', _contam)\n",
    "    iforest = IsolationForest(max_samples=_max_samples, contamination=_contam)\n",
    "    iforest.fit(X_train_tuning)\n",
    "    y_pred = iforest.predict(X_val_tuning)\n",
    "    y_true = val_label_tuning\n",
    "    \n",
    "    best_acc, best_score, iforest_best_param = print_result('iforest', iforest, y_true, y_pred, best_acc, best_score, iforest_best_param)\n",
    "        \n",
    "print(\"==========================\") \n",
    "print(\"best score: \", best_score, ' || best ACC: ', best_acc, ' || best param: ', iforest_best_param) "
   ]
  },
  {
   "cell_type": "code",
   "execution_count": null,
   "metadata": {},
   "outputs": [],
   "source": []
  },
  {
   "cell_type": "code",
   "execution_count": null,
   "metadata": {},
   "outputs": [],
   "source": [
    "## SECTION 7: Analysis"
   ]
  },
  {
   "cell_type": "code",
   "execution_count": null,
   "metadata": {},
   "outputs": [],
   "source": [
    "####################### FEATURE 1 Analysis #######################"
   ]
  },
  {
   "cell_type": "code",
   "execution_count": 470,
   "metadata": {},
   "outputs": [
    {
     "data": {
      "text/plain": [
       "{'kernel': 'rbf', 'gamma': 0.01, 'nu': 0.15}"
      ]
     },
     "execution_count": 470,
     "metadata": {},
     "output_type": "execute_result"
    }
   ],
   "source": [
    "ocsvm_best_param"
   ]
  },
  {
   "cell_type": "code",
   "execution_count": 471,
   "metadata": {},
   "outputs": [
    {
     "data": {
      "text/plain": [
       "{'max_samples': 0.4, 'contamination': 0.1}"
      ]
     },
     "execution_count": 471,
     "metadata": {},
     "output_type": "execute_result"
    }
   ],
   "source": [
    "iforest_best_param"
   ]
  },
  {
   "cell_type": "code",
   "execution_count": 472,
   "metadata": {},
   "outputs": [
    {
     "name": "stdout",
     "output_type": "stream",
     "text": [
      "PCA.explained variance_ratio_ : 0.7122985042171565\n",
      "PCA.explained variance_ratio_ : 0.6991558955054943\n"
     ]
    }
   ],
   "source": [
    "X_train = get_pc(X_train_ori, 3)\n",
    "X_val = get_pc(X_val_ori,3)"
   ]
  },
  {
   "cell_type": "code",
   "execution_count": 473,
   "metadata": {},
   "outputs": [],
   "source": [
    "best_ocsvm = svm.OneClassSVM(**ocsvm_best_param)   \n",
    "ocsvm_label = best_ocsvm.fit(X_train).predict(X_val)"
   ]
  },
  {
   "cell_type": "code",
   "execution_count": 245,
   "metadata": {},
   "outputs": [],
   "source": [
    "best_iforest = IsolationForest(**iforest_best_param)\n",
    "iforest_label = best_iforest.fit(X_train).predict(X_val)"
   ]
  },
  {
   "cell_type": "code",
   "execution_count": 249,
   "metadata": {},
   "outputs": [
    {
     "name": "stdout",
     "output_type": "stream",
     "text": [
      "OCSVM: =============\n",
      "Total:  50763\n",
      "Normal:  3207\n",
      "Anomaly:  47556\n",
      "IFOREST: ============\n",
      "Total:  50763\n",
      "Normal:  12132\n",
      "Anomaly:  38631\n"
     ]
    }
   ],
   "source": [
    "y_pred_ocsvm = ocsvm_label \n",
    "y_pred_iforest = iforest_label \n",
    "print('Validation data: ')\n",
    "print('OCSVM: =============')\n",
    "print_stats(y_pred_ocsvm) \n",
    "print()\n",
    "print('IFOREST: ============')\n",
    "print_stats(y_pred_iforest)"
   ]
  },
  {
   "cell_type": "code",
   "execution_count": 259,
   "metadata": {},
   "outputs": [
    {
     "name": "stdout",
     "output_type": "stream",
     "text": [
      "=========== OCSVM: FEATURE 1 ===========\n",
      "              precision    recall  f1-score   support\n",
      "\n",
      "          -1       0.95      0.95      0.95     47581\n",
      "           1       0.26      0.26      0.26      3182\n",
      "\n",
      "    accuracy                           0.91     50763\n",
      "   macro avg       0.60      0.60      0.60     50763\n",
      "weighted avg       0.91      0.91      0.91     50763\n",
      "\n",
      "| TP:  45200 | FP:  2356 | TN:  826 | FN:  2381\n",
      "TPR:  0.9499590172547866\n",
      "FPR:  0.7404148334380892\n",
      "TPR - FPR :  0.20954418381669737\n"
     ]
    }
   ],
   "source": [
    "print('=========== OCSVM: FEATURE 1 ===========')\n",
    "print(classification_report(y_true, y_pred_ocsvm))\n",
    "(TP, FP, TN, FN) = perf_measure(y_true, y_pred_ocsvm)\n",
    "TPR = TP/(TP+FN)\n",
    "FPR = FP/(FP+TN)\n",
    "\n",
    "print('| TP: ', TP, '| FP: ', FP, '| TN: ', TN, '| FN: ', FN)\n",
    "print('TPR: ', TPR)\n",
    "print('FPR: ', FPR)\n",
    "print('TPR - FPR : ', TPR - FPR )"
   ]
  },
  {
   "cell_type": "code",
   "execution_count": 260,
   "metadata": {},
   "outputs": [
    {
     "name": "stdout",
     "output_type": "stream",
     "text": [
      "=========== IFOREST FEATURE 1 ===========\n",
      "              precision    recall  f1-score   support\n",
      "\n",
      "          -1       0.95      0.77      0.85     47581\n",
      "           1       0.09      0.35      0.15      3182\n",
      "\n",
      "    accuracy                           0.74     50763\n",
      "   macro avg       0.52      0.56      0.50     50763\n",
      "weighted avg       0.89      0.74      0.80     50763\n",
      "\n",
      "| TP:  36566 | FP:  2065 | TN:  1117 | FN:  11015\n",
      "TPR:  0.7685000315251886\n",
      "FPR:  0.6489629164047769\n",
      "TPR - FPR :  0.11953711512041176\n"
     ]
    }
   ],
   "source": [
    "print('=========== IFOREST FEATURE 1 ===========')\n",
    "print(classification_report(y_true, y_pred_iforest))\n",
    "(TP, FP, TN, FN) = perf_measure(y_true, y_pred_iforest)\n",
    "TPR = TP/(TP+FN)\n",
    "FPR = FP/(FP+TN)\n",
    "\n",
    "print('| TP: ', TP, '| FP: ', FP, '| TN: ', TN, '| FN: ', FN)\n",
    "print('TPR: ', TPR)\n",
    "print('FPR: ', FPR)\n",
    "print('TPR - FPR : ', TPR - FPR)"
   ]
  },
  {
   "cell_type": "code",
   "execution_count": null,
   "metadata": {},
   "outputs": [],
   "source": [
    "### Findings ####\n",
    "1.When hyperparams were set in a small set, but trained on a largeset with the very hyperparams, no use at all\n",
    "The result is as below, hyperparams for trained train:validset (138820, 94006)\n",
    "    >> although the best result was :\n",
    "                best score:  0.509059860741818  \n",
    "                || best ACC:  0.882884799489416  \n",
    "                || best param:  {'kernel': 'rbf', 'gamma': 0.01, 'nu': 0.2}\n",
    "\n",
    "but actually trained on (13882, 9401) with the same best param...\n",
    "  \n",
    "2. PCA - more generalisaion with TPR-FPR\n",
    "===========OCSVM\n",
    "              precision    recall  f1-score   support\n",
    "\n",
    "          -1       0.94      0.99      0.97     88158\n",
    "           1       0.40      0.11      0.17      5848\n",
    "\n",
    "    accuracy                           0.93     94006\n",
    "   macro avg       0.67      0.55      0.57     94006\n",
    "weighted avg       0.91      0.93      0.92     94006\n",
    "\n",
    "87226 5216 632 932\n",
    "TPR:  0.9894280723246898\n",
    "FPR:  0.8919288645690835\n",
    "TPR - FPR :  0.09749920775560628"
   ]
  },
  {
   "cell_type": "code",
   "execution_count": 261,
   "metadata": {},
   "outputs": [
    {
     "name": "stdout",
     "output_type": "stream",
     "text": [
      "PCA.explained variance_ratio_ : 0.9328201326385201\n"
     ]
    }
   ],
   "source": [
    "X_test = df_test[selected_features]\n",
    "X_test = get_pc(X_test, 3)"
   ]
  },
  {
   "cell_type": "code",
   "execution_count": 267,
   "metadata": {},
   "outputs": [
    {
     "name": "stdout",
     "output_type": "stream",
     "text": [
      "=======>>>OCSVM CLUSTER RESULT\n",
      "\n",
      "Exporting LABEL...\n",
      "Number of clusters: 2\n",
      "\\Label -1: 1035114 data points\n",
      "\\Label 1: 18731 data points\n",
      "\n",
      "DONE.\n",
      "--------------------------------------\n",
      "Wall time: 1min\n"
     ]
    },
    {
     "data": {
      "image/png": "[encoded data removed]",
      "text/plain": [
       "<Figure size 432x288 with 1 Axes>"
      ]
     },
     "metadata": {
      "needs_background": "light"
     },
     "output_type": "display_data"
    }
   ],
   "source": [
    "%%time\n",
    "print('=========== OCSVM FEATURE 1 ===========')\n",
    "print('=======>>>OCSVM CLUSTER RESULT')\n",
    "ocsvm_test_label = best_ocsvm.fit(X_train).predict(X_test)\n",
    "# print results\n",
    "clustering_print_results(df_test, ocsvm_test_label, selected_features, X_test, True, True )"
   ]
  },
  {
   "cell_type": "code",
   "execution_count": 266,
   "metadata": {},
   "outputs": [
    {
     "name": "stdout",
     "output_type": "stream",
     "text": [
      "=======>>>IFOREST CLUSTER RESULT\n",
      "\n",
      "Exporting LABEL...\n",
      "Number of clusters: 2\n",
      "\\Label -1: 1033881 data points\n",
      "\\Label 1: 19964 data points\n",
      "\n",
      "DONE.\n",
      "--------------------------------------\n",
      "Wall time: 40.2 s\n"
     ]
    },
    {
     "data": {
      "image/png": "[encoded data removed]",
      "text/plain": [
       "<Figure size 432x288 with 1 Axes>"
      ]
     },
     "metadata": {
      "needs_background": "light"
     },
     "output_type": "display_data"
    }
   ],
   "source": [
    "%%time\n",
    "print('=========== IFOREST FEATURE 1 ===========')\n",
    "print('=======>>>IFOREST CLUSTER RESULT')\n",
    "iforest_test_label = best_iforest.fit(X_train).predict(X_test)\n",
    "# print results\n",
    "clustering_print_results(df_test, iforest_test_label, selected_features, X_test, True, True )"
   ]
  },
  {
   "cell_type": "code",
   "execution_count": 272,
   "metadata": {},
   "outputs": [],
   "source": [
    "sort_anomalies    =   ['total_packets', 'bytes_bothdir','bytes_onedir', 'duration']\n",
    "# get anomalies\n",
    "anomalies_ocsvm_result = get_anomalies(df_test, ocsvm_test_label)\n",
    "anomalies_ocsvm_result.sort_values(by=sort_anomalies,ascending=False)\n",
    "save(anomalies_ocsvm_result, \"ocsvm_anomalies\")\n",
    "\n",
    "anomalies_iforest_result = get_anomalies(df_test, iforest_test_label)\n",
    "anomalies_iforest_result.sort_values(by=sort_anomalies,ascending=False)\n",
    "save(anomalies_iforest_result, \"ifoest_anomalies\")"
   ]
  },
  {
   "cell_type": "code",
   "execution_count": null,
   "metadata": {},
   "outputs": [],
   "source": []
  },
  {
   "cell_type": "code",
   "execution_count": 284,
   "metadata": {},
   "outputs": [],
   "source": [
    "####################### FEATURE 2 Analysis #######################"
   ]
  },
  {
   "cell_type": "code",
   "execution_count": 390,
   "metadata": {},
   "outputs": [
    {
     "data": {
      "text/plain": [
       "{'kernel': 'rbf', 'gamma': 0.01, 'nu': 0.15}"
      ]
     },
     "execution_count": 390,
     "metadata": {},
     "output_type": "execute_result"
    }
   ],
   "source": [
    "ocsvm_best_param"
   ]
  },
  {
   "cell_type": "code",
   "execution_count": 391,
   "metadata": {},
   "outputs": [
    {
     "data": {
      "text/plain": [
       "{'max_samples': 'auto', 'contamination': 0.3}"
      ]
     },
     "execution_count": 391,
     "metadata": {},
     "output_type": "execute_result"
    }
   ],
   "source": [
    "iforest_best_param"
   ]
  },
  {
   "cell_type": "code",
   "execution_count": 109,
   "metadata": {
    "scrolled": true
   },
   "outputs": [
    {
     "name": "stdout",
     "output_type": "stream",
     "text": [
      "PCA.explained variance_ratio_ : 0.9469287695925639\n",
      "PCA.explained variance_ratio_ : 0.9115256759324034\n"
     ]
    }
   ],
   "source": [
    "X_train = get_pc(X_train_ori, 10)\n",
    "X_val = get_pc(X_val_ori,10)"
   ]
  },
  {
   "cell_type": "code",
   "execution_count": 101,
   "metadata": {},
   "outputs": [],
   "source": [
    "best_ocsvm = svm.OneClassSVM(**ocsvm_best_param)   \n",
    "ocsvm_label = best_ocsvm.fit(X_train).predict(X_val)"
   ]
  },
  {
   "cell_type": "code",
   "execution_count": 110,
   "metadata": {},
   "outputs": [],
   "source": [
    "best_iforest = IsolationForest(**iforest_best_param)\n",
    "iforest_label = best_iforest.fit(X_train).predict(X_val)"
   ]
  },
  {
   "cell_type": "code",
   "execution_count": 111,
   "metadata": {},
   "outputs": [
    {
     "name": "stdout",
     "output_type": "stream",
     "text": [
      "Validation data: \n",
      "OCSVM: =============\n",
      "Total:  47003\n",
      "Normal:  5528\n",
      "Anomaly:  41475\n",
      "\n",
      "IFOREST: ============\n",
      "Total:  47003\n",
      "Normal:  1828\n",
      "Anomaly:  45175\n"
     ]
    }
   ],
   "source": [
    "y_pred_ocsvm = ocsvm_label \n",
    "y_pred_iforest = iforest_label \n",
    "print('Validation data: ')\n",
    "print('OCSVM: =============')\n",
    "print_stats(y_pred_ocsvm) \n",
    "print()\n",
    "print('IFOREST: ============')\n",
    "print_stats(y_pred_iforest)"
   ]
  },
  {
   "cell_type": "code",
   "execution_count": 106,
   "metadata": {},
   "outputs": [
    {
     "name": "stdout",
     "output_type": "stream",
     "text": [
      "=========== OCSVM: FEATURE 2 ===========\n",
      "              precision    recall  f1-score   support\n",
      "\n",
      "          -1       0.97      0.91      0.94     44057\n",
      "           1       0.29      0.55      0.38      2946\n",
      "\n",
      "    accuracy                           0.89     47003\n",
      "   macro avg       0.63      0.73      0.66     47003\n",
      "weighted avg       0.93      0.89      0.90     47003\n",
      "\n",
      "| TP:  40153 | FP:  1322 | TN:  1624 | FN:  3904\n",
      "TPR:  0.9113875207118052\n",
      "FPR:  0.4487440597420231\n",
      "TPR - FPR :  0.4626434609697821\n"
     ]
    }
   ],
   "source": [
    "print('=========== OCSVM: FEATURE 2 ===========')\n",
    "print(classification_report(y_true, y_pred_ocsvm))\n",
    "(TP, FP, TN, FN) = perf_measure(y_true, y_pred_ocsvm)\n",
    "TPR = TP/(TP+FN)\n",
    "FPR = FP/(FP+TN)\n",
    "\n",
    "print('| TP: ', TP, '| FP: ', FP, '| TN: ', TN, '| FN: ', FN)\n",
    "print('TPR: ', TPR)\n",
    "print('FPR: ', FPR)\n",
    "print('TPR - FPR : ', TPR - FPR )"
   ]
  },
  {
   "cell_type": "code",
   "execution_count": 112,
   "metadata": {},
   "outputs": [
    {
     "name": "stdout",
     "output_type": "stream",
     "text": [
      "=========== IFOREST FEATURE 2 ===========\n",
      "              precision    recall  f1-score   support\n",
      "\n",
      "          -1       0.94      0.96      0.95     44057\n",
      "           1       0.09      0.06      0.07      2946\n",
      "\n",
      "    accuracy                           0.91     47003\n",
      "   macro avg       0.51      0.51      0.51     47003\n",
      "weighted avg       0.89      0.91      0.90     47003\n",
      "\n",
      "| TP:  42395 | FP:  2780 | TN:  166 | FN:  1662\n",
      "TPR:  0.9622761422702408\n",
      "FPR:  0.9436524100475221\n",
      "TPR - FPR :  0.018623732222718736\n"
     ]
    }
   ],
   "source": [
    "print('=========== IFOREST FEATURE 2 ===========')\n",
    "print(classification_report(y_true, y_pred_iforest))\n",
    "(TP, FP, TN, FN) = perf_measure(y_true, y_pred_iforest)\n",
    "TPR = TP/(TP+FN)\n",
    "FPR = FP/(FP+TN)\n",
    "\n",
    "print('| TP: ', TP, '| FP: ', FP, '| TN: ', TN, '| FN: ', FN)\n",
    "print('TPR: ', TPR)\n",
    "print('FPR: ', FPR)\n",
    "print('TPR - FPR : ', TPR - FPR)"
   ]
  },
  {
   "cell_type": "code",
   "execution_count": 114,
   "metadata": {},
   "outputs": [
    {
     "name": "stdout",
     "output_type": "stream",
     "text": [
      "PCA.explained variance_ratio_ : 0.9200865845868786\n"
     ]
    }
   ],
   "source": [
    "X_test = df_test[selected_features]\n",
    "X_test = get_pc(X_test, 10)"
   ]
  },
  {
   "cell_type": "code",
   "execution_count": 488,
   "metadata": {},
   "outputs": [
    {
     "data": {
      "text/plain": [
       "870431"
      ]
     },
     "execution_count": 488,
     "metadata": {},
     "output_type": "execute_result"
    }
   ],
   "source": [
    "len(iforest_test_label)"
   ]
  },
  {
   "cell_type": "code",
   "execution_count": 115,
   "metadata": {},
   "outputs": [
    {
     "name": "stdout",
     "output_type": "stream",
     "text": [
      "=========== OCSVM FEATURE 2 ===========\n",
      "=======>>>OCSVM CLUSTER RESULT\n",
      "\n",
      "Exporting LABEL...\n",
      "Number of clusters: 2\n",
      "\\Label -1: 825584 data points\n",
      "\\Label 1: 228261 data points\n",
      "\n",
      "DONE.\n",
      "--------------------------------------\n",
      "Wall time: 46.1 s\n"
     ]
    },
    {
     "data": {
      "image/png": "[encoded data removed]",
      "text/plain": [
       "<Figure size 432x288 with 1 Axes>"
      ]
     },
     "metadata": {
      "needs_background": "light"
     },
     "output_type": "display_data"
    }
   ],
   "source": [
    "%%time\n",
    "print('=========== OCSVM FEATURE 2 ===========')\n",
    "print('=======>>>OCSVM CLUSTER RESULT')\n",
    "ocsvm_test_label = best_ocsvm.fit(X_train).predict(X_test)\n",
    "# print results\n",
    "clustering_print_results(df_test, ocsvm_test_label, selected_features, X_test, True, True )"
   ]
  },
  {
   "cell_type": "code",
   "execution_count": 116,
   "metadata": {},
   "outputs": [
    {
     "name": "stdout",
     "output_type": "stream",
     "text": [
      "=========== IFOREST FEATURE 2 ===========\n",
      "=======>>>IFOREST CLUSTER RESULT\n",
      "\n",
      "Exporting LABEL...\n",
      "Number of clusters: 2\n",
      "\\Label -1: 978155 data points\n",
      "\\Label 1: 75690 data points\n",
      "\n",
      "DONE.\n",
      "--------------------------------------\n",
      "Wall time: 37.7 s\n"
     ]
    },
    {
     "data": {
      "image/png": "[encoded data removed]",
      "text/plain": [
       "<Figure size 432x288 with 1 Axes>"
      ]
     },
     "metadata": {
      "needs_background": "light"
     },
     "output_type": "display_data"
    }
   ],
   "source": [
    "%%time\n",
    "print('=========== IFOREST FEATURE 2 ===========')\n",
    "print('=======>>>IFOREST CLUSTER RESULT')\n",
    "iforest_test_label = best_iforest.fit(X_train).predict(X_test)\n",
    "# print results\n",
    "clustering_print_results(df_test, iforest_test_label, selected_features, X_test, True, True )"
   ]
  },
  {
   "cell_type": "code",
   "execution_count": 118,
   "metadata": {},
   "outputs": [
    {
     "data": {
      "text/html": [
       "<div>\n",
       "<style scoped>\n",
       "    .dataframe tbody tr th:only-of-type {\n",
       "        vertical-align: middle;\n",
       "    }\n",
       "\n",
       "    .dataframe tbody tr th {\n",
       "        vertical-align: top;\n",
       "    }\n",
       "\n",
       "    .dataframe thead th {\n",
       "        text-align: right;\n",
       "    }\n",
       "</style>\n",
       "<table border=\"1\" class=\"dataframe\">\n",
       "  <thead>\n",
       "    <tr style=\"text-align: right;\">\n",
       "      <th></th>\n",
       "      <th>timestamp</th>\n",
       "      <th>duration</th>\n",
       "      <th>protocol</th>\n",
       "      <th>src_ip</th>\n",
       "      <th>src_port</th>\n",
       "      <th>direction</th>\n",
       "      <th>dst_ip</th>\n",
       "      <th>dst_port</th>\n",
       "      <th>state</th>\n",
       "      <th>src_type</th>\n",
       "      <th>...</th>\n",
       "      <th>dst_port3</th>\n",
       "      <th>dst_port4</th>\n",
       "      <th>dst_port5</th>\n",
       "      <th>dst_port6</th>\n",
       "      <th>dst_port7</th>\n",
       "      <th>dst_port8</th>\n",
       "      <th>dst_port9</th>\n",
       "      <th>label</th>\n",
       "      <th>x</th>\n",
       "      <th>y</th>\n",
       "    </tr>\n",
       "  </thead>\n",
       "  <tbody>\n",
       "    <tr>\n",
       "      <th>0</th>\n",
       "      <td>2012/12/01 03:36:40.878146</td>\n",
       "      <td>13.342922</td>\n",
       "      <td>tcp</td>\n",
       "      <td>138.11.74.16</td>\n",
       "      <td>6667</td>\n",
       "      <td>&lt;?&gt;</td>\n",
       "      <td>201.30.94.155</td>\n",
       "      <td>1027</td>\n",
       "      <td>PA_PA</td>\n",
       "      <td>0.0</td>\n",
       "      <td>...</td>\n",
       "      <td>0.0</td>\n",
       "      <td>0.0</td>\n",
       "      <td>0.0</td>\n",
       "      <td>0.0</td>\n",
       "      <td>0.0</td>\n",
       "      <td>0.0</td>\n",
       "      <td>0.0</td>\n",
       "      <td>-1</td>\n",
       "      <td>-1.877140</td>\n",
       "      <td>0.540756</td>\n",
       "    </tr>\n",
       "    <tr>\n",
       "      <th>1</th>\n",
       "      <td>2012/12/01 03:51:49.918983</td>\n",
       "      <td>11.884443</td>\n",
       "      <td>tcp</td>\n",
       "      <td>138.11.74.16</td>\n",
       "      <td>6667</td>\n",
       "      <td>&lt;?&gt;</td>\n",
       "      <td>201.30.94.155</td>\n",
       "      <td>1027</td>\n",
       "      <td>PA_PA</td>\n",
       "      <td>0.0</td>\n",
       "      <td>...</td>\n",
       "      <td>0.0</td>\n",
       "      <td>0.0</td>\n",
       "      <td>0.0</td>\n",
       "      <td>0.0</td>\n",
       "      <td>0.0</td>\n",
       "      <td>0.0</td>\n",
       "      <td>0.0</td>\n",
       "      <td>-1</td>\n",
       "      <td>-1.849994</td>\n",
       "      <td>0.481309</td>\n",
       "    </tr>\n",
       "    <tr>\n",
       "      <th>2</th>\n",
       "      <td>2012/12/01 04:07:21.899558</td>\n",
       "      <td>12.332861</td>\n",
       "      <td>tcp</td>\n",
       "      <td>138.11.74.16</td>\n",
       "      <td>6667</td>\n",
       "      <td>&lt;?&gt;</td>\n",
       "      <td>201.30.94.155</td>\n",
       "      <td>1027</td>\n",
       "      <td>PA_PA</td>\n",
       "      <td>0.0</td>\n",
       "      <td>...</td>\n",
       "      <td>0.0</td>\n",
       "      <td>0.0</td>\n",
       "      <td>0.0</td>\n",
       "      <td>0.0</td>\n",
       "      <td>0.0</td>\n",
       "      <td>0.0</td>\n",
       "      <td>0.0</td>\n",
       "      <td>-1</td>\n",
       "      <td>-1.869314</td>\n",
       "      <td>0.499861</td>\n",
       "    </tr>\n",
       "    <tr>\n",
       "      <th>3</th>\n",
       "      <td>2012/12/01 04:38:46.872983</td>\n",
       "      <td>12.834812</td>\n",
       "      <td>tcp</td>\n",
       "      <td>138.11.74.16</td>\n",
       "      <td>6667</td>\n",
       "      <td>&lt;?&gt;</td>\n",
       "      <td>201.30.94.155</td>\n",
       "      <td>1027</td>\n",
       "      <td>PA_PA</td>\n",
       "      <td>0.0</td>\n",
       "      <td>...</td>\n",
       "      <td>0.0</td>\n",
       "      <td>0.0</td>\n",
       "      <td>0.0</td>\n",
       "      <td>0.0</td>\n",
       "      <td>0.0</td>\n",
       "      <td>0.0</td>\n",
       "      <td>0.0</td>\n",
       "      <td>-1</td>\n",
       "      <td>-1.867158</td>\n",
       "      <td>0.522169</td>\n",
       "    </tr>\n",
       "    <tr>\n",
       "      <th>4</th>\n",
       "      <td>2012/12/01 04:53:55.866280</td>\n",
       "      <td>12.204415</td>\n",
       "      <td>tcp</td>\n",
       "      <td>138.11.74.16</td>\n",
       "      <td>6667</td>\n",
       "      <td>&lt;?&gt;</td>\n",
       "      <td>201.30.94.155</td>\n",
       "      <td>1027</td>\n",
       "      <td>PA_PA</td>\n",
       "      <td>0.0</td>\n",
       "      <td>...</td>\n",
       "      <td>0.0</td>\n",
       "      <td>0.0</td>\n",
       "      <td>0.0</td>\n",
       "      <td>0.0</td>\n",
       "      <td>0.0</td>\n",
       "      <td>0.0</td>\n",
       "      <td>0.0</td>\n",
       "      <td>-1</td>\n",
       "      <td>-1.861056</td>\n",
       "      <td>0.494133</td>\n",
       "    </tr>\n",
       "    <tr>\n",
       "      <th>...</th>\n",
       "      <td>...</td>\n",
       "      <td>...</td>\n",
       "      <td>...</td>\n",
       "      <td>...</td>\n",
       "      <td>...</td>\n",
       "      <td>...</td>\n",
       "      <td>...</td>\n",
       "      <td>...</td>\n",
       "      <td>...</td>\n",
       "      <td>...</td>\n",
       "      <td>...</td>\n",
       "      <td>...</td>\n",
       "      <td>...</td>\n",
       "      <td>...</td>\n",
       "      <td>...</td>\n",
       "      <td>...</td>\n",
       "      <td>...</td>\n",
       "      <td>...</td>\n",
       "      <td>...</td>\n",
       "      <td>...</td>\n",
       "      <td>...</td>\n",
       "    </tr>\n",
       "    <tr>\n",
       "      <th>1053840</th>\n",
       "      <td>2012/12/10 23:24:28.388451</td>\n",
       "      <td>-0.188116</td>\n",
       "      <td>tcp</td>\n",
       "      <td>228.91.109.140</td>\n",
       "      <td>6059</td>\n",
       "      <td>-&gt;</td>\n",
       "      <td>135.31.242.15</td>\n",
       "      <td>443</td>\n",
       "      <td>S_RA</td>\n",
       "      <td>0.0</td>\n",
       "      <td>...</td>\n",
       "      <td>0.0</td>\n",
       "      <td>0.0</td>\n",
       "      <td>0.0</td>\n",
       "      <td>1.0</td>\n",
       "      <td>0.0</td>\n",
       "      <td>0.0</td>\n",
       "      <td>0.0</td>\n",
       "      <td>-1</td>\n",
       "      <td>-1.813706</td>\n",
       "      <td>-0.021952</td>\n",
       "    </tr>\n",
       "    <tr>\n",
       "      <th>1053841</th>\n",
       "      <td>2012/12/10 23:24:29.509241</td>\n",
       "      <td>-0.158789</td>\n",
       "      <td>tcp</td>\n",
       "      <td>157.51.106.143</td>\n",
       "      <td>1864</td>\n",
       "      <td>-&gt;</td>\n",
       "      <td>162.58.154.76</td>\n",
       "      <td>22</td>\n",
       "      <td>S_</td>\n",
       "      <td>0.0</td>\n",
       "      <td>...</td>\n",
       "      <td>1.0</td>\n",
       "      <td>0.0</td>\n",
       "      <td>0.0</td>\n",
       "      <td>0.0</td>\n",
       "      <td>0.0</td>\n",
       "      <td>0.0</td>\n",
       "      <td>0.0</td>\n",
       "      <td>-1</td>\n",
       "      <td>-1.799352</td>\n",
       "      <td>-0.020764</td>\n",
       "    </tr>\n",
       "    <tr>\n",
       "      <th>1053842</th>\n",
       "      <td>2012/12/10 23:24:30.040003</td>\n",
       "      <td>-0.162865</td>\n",
       "      <td>tcp</td>\n",
       "      <td>157.51.106.143</td>\n",
       "      <td>1865</td>\n",
       "      <td>-&gt;</td>\n",
       "      <td>140.18.193.101</td>\n",
       "      <td>22</td>\n",
       "      <td>S_</td>\n",
       "      <td>0.0</td>\n",
       "      <td>...</td>\n",
       "      <td>1.0</td>\n",
       "      <td>0.0</td>\n",
       "      <td>0.0</td>\n",
       "      <td>0.0</td>\n",
       "      <td>0.0</td>\n",
       "      <td>0.0</td>\n",
       "      <td>0.0</td>\n",
       "      <td>-1</td>\n",
       "      <td>-1.758258</td>\n",
       "      <td>-0.019321</td>\n",
       "    </tr>\n",
       "    <tr>\n",
       "      <th>1053843</th>\n",
       "      <td>2012/12/10 23:24:30.892397</td>\n",
       "      <td>-0.188522</td>\n",
       "      <td>tcp</td>\n",
       "      <td>228.91.109.140</td>\n",
       "      <td>6060</td>\n",
       "      <td>-&gt;</td>\n",
       "      <td>135.31.242.15</td>\n",
       "      <td>443</td>\n",
       "      <td>S_RA</td>\n",
       "      <td>0.0</td>\n",
       "      <td>...</td>\n",
       "      <td>0.0</td>\n",
       "      <td>0.0</td>\n",
       "      <td>0.0</td>\n",
       "      <td>1.0</td>\n",
       "      <td>0.0</td>\n",
       "      <td>0.0</td>\n",
       "      <td>0.0</td>\n",
       "      <td>-1</td>\n",
       "      <td>-1.822083</td>\n",
       "      <td>-0.022361</td>\n",
       "    </tr>\n",
       "    <tr>\n",
       "      <th>1053844</th>\n",
       "      <td>2012/12/10 23:24:32.068060</td>\n",
       "      <td>-0.159834</td>\n",
       "      <td>tcp</td>\n",
       "      <td>157.51.106.143</td>\n",
       "      <td>1867</td>\n",
       "      <td>-&gt;</td>\n",
       "      <td>226.90.25.126</td>\n",
       "      <td>22</td>\n",
       "      <td>S_</td>\n",
       "      <td>0.0</td>\n",
       "      <td>...</td>\n",
       "      <td>1.0</td>\n",
       "      <td>0.0</td>\n",
       "      <td>0.0</td>\n",
       "      <td>0.0</td>\n",
       "      <td>0.0</td>\n",
       "      <td>0.0</td>\n",
       "      <td>0.0</td>\n",
       "      <td>-1</td>\n",
       "      <td>-1.764958</td>\n",
       "      <td>-0.019476</td>\n",
       "    </tr>\n",
       "  </tbody>\n",
       "</table>\n",
       "<p>1053845 rows × 70 columns</p>\n",
       "</div>"
      ],
      "text/plain": [
       "                          timestamp   duration protocol          src_ip  \\\n",
       "0        2012/12/01 03:36:40.878146  13.342922      tcp    138.11.74.16   \n",
       "1        2012/12/01 03:51:49.918983  11.884443      tcp    138.11.74.16   \n",
       "2        2012/12/01 04:07:21.899558  12.332861      tcp    138.11.74.16   \n",
       "3        2012/12/01 04:38:46.872983  12.834812      tcp    138.11.74.16   \n",
       "4        2012/12/01 04:53:55.866280  12.204415      tcp    138.11.74.16   \n",
       "...                             ...        ...      ...             ...   \n",
       "1053840  2012/12/10 23:24:28.388451  -0.188116      tcp  228.91.109.140   \n",
       "1053841  2012/12/10 23:24:29.509241  -0.158789      tcp  157.51.106.143   \n",
       "1053842  2012/12/10 23:24:30.040003  -0.162865      tcp  157.51.106.143   \n",
       "1053843  2012/12/10 23:24:30.892397  -0.188522      tcp  228.91.109.140   \n",
       "1053844  2012/12/10 23:24:32.068060  -0.159834      tcp  157.51.106.143   \n",
       "\n",
       "        src_port direction          dst_ip dst_port  state  src_type  ...  \\\n",
       "0           6667       <?>   201.30.94.155     1027  PA_PA       0.0  ...   \n",
       "1           6667       <?>   201.30.94.155     1027  PA_PA       0.0  ...   \n",
       "2           6667       <?>   201.30.94.155     1027  PA_PA       0.0  ...   \n",
       "3           6667       <?>   201.30.94.155     1027  PA_PA       0.0  ...   \n",
       "4           6667       <?>   201.30.94.155     1027  PA_PA       0.0  ...   \n",
       "...          ...       ...             ...      ...    ...       ...  ...   \n",
       "1053840     6059        ->   135.31.242.15      443   S_RA       0.0  ...   \n",
       "1053841     1864        ->   162.58.154.76       22     S_       0.0  ...   \n",
       "1053842     1865        ->  140.18.193.101       22     S_       0.0  ...   \n",
       "1053843     6060        ->   135.31.242.15      443   S_RA       0.0  ...   \n",
       "1053844     1867        ->   226.90.25.126       22     S_       0.0  ...   \n",
       "\n",
       "         dst_port3  dst_port4  dst_port5  dst_port6 dst_port7 dst_port8  \\\n",
       "0              0.0        0.0        0.0        0.0       0.0       0.0   \n",
       "1              0.0        0.0        0.0        0.0       0.0       0.0   \n",
       "2              0.0        0.0        0.0        0.0       0.0       0.0   \n",
       "3              0.0        0.0        0.0        0.0       0.0       0.0   \n",
       "4              0.0        0.0        0.0        0.0       0.0       0.0   \n",
       "...            ...        ...        ...        ...       ...       ...   \n",
       "1053840        0.0        0.0        0.0        1.0       0.0       0.0   \n",
       "1053841        1.0        0.0        0.0        0.0       0.0       0.0   \n",
       "1053842        1.0        0.0        0.0        0.0       0.0       0.0   \n",
       "1053843        0.0        0.0        0.0        1.0       0.0       0.0   \n",
       "1053844        1.0        0.0        0.0        0.0       0.0       0.0   \n",
       "\n",
       "         dst_port9  label         x         y  \n",
       "0              0.0     -1 -1.877140  0.540756  \n",
       "1              0.0     -1 -1.849994  0.481309  \n",
       "2              0.0     -1 -1.869314  0.499861  \n",
       "3              0.0     -1 -1.867158  0.522169  \n",
       "4              0.0     -1 -1.861056  0.494133  \n",
       "...            ...    ...       ...       ...  \n",
       "1053840        0.0     -1 -1.813706 -0.021952  \n",
       "1053841        0.0     -1 -1.799352 -0.020764  \n",
       "1053842        0.0     -1 -1.758258 -0.019321  \n",
       "1053843        0.0     -1 -1.822083 -0.022361  \n",
       "1053844        0.0     -1 -1.764958 -0.019476  \n",
       "\n",
       "[1053845 rows x 70 columns]"
      ]
     },
     "execution_count": 118,
     "metadata": {},
     "output_type": "execute_result"
    }
   ],
   "source": []
  },
  {
   "cell_type": "code",
   "execution_count": 120,
   "metadata": {},
   "outputs": [],
   "source": [
    "sort_anomalies    =   ['total_packets', 'bytes_bothdir','bytes_onedir', 'duration']\n",
    "# get anomalies\n",
    "anomalies_ocsvm_result = get_anomalies(df_test, ocsvm_test_label)\n",
    "anomalies_ocsvm_result.sort_values(by=sort_anomalies,ascending=False)\n",
    "save(anomalies_ocsvm_result, \"ocsvm_f2_anomalies\")\n",
    "\n",
    "anomalies_iforest_result = get_anomalies(df_test, iforest_test_label)\n",
    "anomalies_iforest_result.sort_values(by=sort_anomalies,ascending=False)\n",
    "save(anomalies_iforest_result, \"ifoest_f2_anomalies\")"
   ]
  },
  {
   "cell_type": "code",
   "execution_count": null,
   "metadata": {},
   "outputs": [],
   "source": []
  },
  {
   "cell_type": "code",
   "execution_count": 285,
   "metadata": {},
   "outputs": [],
   "source": [
    "####################### FEATURE 3 Analysis #######################"
   ]
  },
  {
   "cell_type": "code",
   "execution_count": 438,
   "metadata": {},
   "outputs": [
    {
     "data": {
      "text/plain": [
       "{'kernel': 'rbf', 'gamma': 0.15, 'nu': 0.2}"
      ]
     },
     "execution_count": 438,
     "metadata": {},
     "output_type": "execute_result"
    }
   ],
   "source": [
    "ocsvm_best_param"
   ]
  },
  {
   "cell_type": "code",
   "execution_count": 439,
   "metadata": {},
   "outputs": [
    {
     "data": {
      "text/plain": [
       "{'max_samples': 0.2, 'contamination': 0.1}"
      ]
     },
     "execution_count": 439,
     "metadata": {},
     "output_type": "execute_result"
    }
   ],
   "source": [
    "iforest_best_param"
   ]
  },
  {
   "cell_type": "code",
   "execution_count": 161,
   "metadata": {},
   "outputs": [
    {
     "name": "stdout",
     "output_type": "stream",
     "text": [
      "PCA.explained variance_ratio_ : 0.8505886924542188\n",
      "PCA.explained variance_ratio_ : 0.8495007721308345\n"
     ]
    }
   ],
   "source": [
    "X_train = get_pc(X_train_ori, 5)\n",
    "X_val = get_pc(X_val_ori, 5)"
   ]
  },
  {
   "cell_type": "code",
   "execution_count": 162,
   "metadata": {},
   "outputs": [],
   "source": [
    "best_ocsvm = svm.OneClassSVM(**ocsvm_best_param)   \n",
    "ocsvm_label = best_ocsvm.fit(X_train).predict(X_val)"
   ]
  },
  {
   "cell_type": "code",
   "execution_count": 163,
   "metadata": {},
   "outputs": [],
   "source": [
    "best_iforest = IsolationForest(**iforest_best_param)\n",
    "iforest_label = best_iforest.fit(X_train).predict(X_val)"
   ]
  },
  {
   "cell_type": "code",
   "execution_count": 164,
   "metadata": {},
   "outputs": [
    {
     "name": "stdout",
     "output_type": "stream",
     "text": [
      "Validation data: \n",
      "OCSVM: =============\n",
      "Total:  41073\n",
      "Normal:  4586\n",
      "Anomaly:  36487\n",
      "\n",
      "IFOREST: ============\n",
      "Total:  41073\n",
      "Normal:  1230\n",
      "Anomaly:  39843\n"
     ]
    }
   ],
   "source": [
    "y_pred_ocsvm = ocsvm_label \n",
    "y_pred_iforest = iforest_label \n",
    "print('Validation data: ')\n",
    "print('OCSVM: =============')\n",
    "print_stats(y_pred_ocsvm) \n",
    "print()\n",
    "print('IFOREST: ============')\n",
    "print_stats(y_pred_iforest)"
   ]
  },
  {
   "cell_type": "code",
   "execution_count": 165,
   "metadata": {},
   "outputs": [
    {
     "name": "stdout",
     "output_type": "stream",
     "text": [
      "=========== OCSVM: FEATURE 3 ===========\n",
      "              precision    recall  f1-score   support\n",
      "\n",
      "          -1       0.97      0.92      0.95     38271\n",
      "           1       0.36      0.59      0.45      2802\n",
      "\n",
      "    accuracy                           0.90     41073\n",
      "   macro avg       0.66      0.76      0.70     41073\n",
      "weighted avg       0.93      0.90      0.91     41073\n",
      "\n",
      "| TP:  35331 | FP:  1156 | TN:  1646 | FN:  2940\n",
      "TPR:  0.923179430900682\n",
      "FPR:  0.4125624553890079\n",
      "TPR - FPR :  0.5106169755116741\n"
     ]
    }
   ],
   "source": [
    "print('=========== OCSVM: FEATURE 3 ===========')\n",
    "print(classification_report(y_true, y_pred_ocsvm))\n",
    "(TP, FP, TN, FN) = perf_measure(y_true, y_pred_ocsvm)\n",
    "TPR = TP/(TP+FN)\n",
    "FPR = FP/(FP+TN)\n",
    "\n",
    "print('| TP: ', TP, '| FP: ', FP, '| TN: ', TN, '| FN: ', FN)\n",
    "print('TPR: ', TPR)\n",
    "print('FPR: ', FPR)\n",
    "print('TPR - FPR : ', TPR - FPR )"
   ]
  },
  {
   "cell_type": "code",
   "execution_count": 166,
   "metadata": {},
   "outputs": [
    {
     "name": "stdout",
     "output_type": "stream",
     "text": [
      "=========== IFOREST FEATURE 3 ===========\n",
      "              precision    recall  f1-score   support\n",
      "\n",
      "          -1       0.94      0.98      0.96     38271\n",
      "           1       0.23      0.10      0.14      2802\n",
      "\n",
      "    accuracy                           0.92     41073\n",
      "   macro avg       0.58      0.54      0.55     41073\n",
      "weighted avg       0.89      0.92      0.90     41073\n",
      "\n",
      "| TP:  37327 | FP:  2516 | TN:  286 | FN:  944\n",
      "TPR:  0.9753338036633482\n",
      "FPR:  0.8979300499643112\n",
      "TPR - FPR :  0.07740375369903696\n"
     ]
    }
   ],
   "source": [
    "print('=========== IFOREST FEATURE 3 ===========')\n",
    "print(classification_report(y_true, y_pred_iforest))\n",
    "(TP, FP, TN, FN) = perf_measure(y_true, y_pred_iforest)\n",
    "TPR = TP/(TP+FN)\n",
    "FPR = FP/(FP+TN)\n",
    "\n",
    "print('| TP: ', TP, '| FP: ', FP, '| TN: ', TN, '| FN: ', FN)\n",
    "print('TPR: ', TPR)\n",
    "print('FPR: ', FPR)\n",
    "print('TPR - FPR : ', TPR - FPR)"
   ]
  },
  {
   "cell_type": "code",
   "execution_count": 168,
   "metadata": {},
   "outputs": [
    {
     "name": "stdout",
     "output_type": "stream",
     "text": [
      "PCA.explained variance_ratio_ : 0.8692339371946369\n"
     ]
    }
   ],
   "source": [
    "X_test = df_test[selected_features]\n",
    "X_test = get_pc(X_test, 5)"
   ]
  },
  {
   "cell_type": "code",
   "execution_count": 169,
   "metadata": {},
   "outputs": [
    {
     "name": "stdout",
     "output_type": "stream",
     "text": [
      "=========== OCSVM FEATURE 3 ===========\n",
      "=======>>>OCSVM CLUSTER RESULT\n",
      "\n",
      "Exporting LABEL...\n",
      "Number of clusters: 2\n",
      "\\Label -1: 761112 data points\n",
      "\\Label 1: 109319 data points\n",
      "\n",
      "DONE.\n",
      "--------------------------------------\n",
      "Wall time: 1min 55s\n"
     ]
    },
    {
     "data": {
      "image/png": "[encoded data removed]",
      "text/plain": [
       "<Figure size 432x288 with 1 Axes>"
      ]
     },
     "metadata": {
      "needs_background": "light"
     },
     "output_type": "display_data"
    }
   ],
   "source": [
    "%%time\n",
    "print('=========== OCSVM FEATURE 3 ===========')\n",
    "print('=======>>>OCSVM CLUSTER RESULT')\n",
    "ocsvm_test_label = best_ocsvm.fit(X_train).predict(X_test)\n",
    "# print results\n",
    "clustering_print_results(df_test, ocsvm_test_label, selected_features, X_test, True, True )"
   ]
  },
  {
   "cell_type": "code",
   "execution_count": 173,
   "metadata": {},
   "outputs": [
    {
     "name": "stdout",
     "output_type": "stream",
     "text": [
      "=========== IFOREST FEATURE 3 ===========\n",
      "=======>>>IFOREST CLUSTER RESULT\n",
      "\n",
      "Exporting LABEL...\n",
      "Number of clusters: 2\n",
      "\\Label -1: 870424 data points\n",
      "\\Label 1: 7 data points\n",
      "\n",
      "DONE.\n",
      "--------------------------------------\n",
      "Wall time: 29.7 s\n"
     ]
    },
    {
     "data": {
      "image/png": "[encoded data removed]",
      "text/plain": [
       "<Figure size 432x288 with 1 Axes>"
      ]
     },
     "metadata": {
      "needs_background": "light"
     },
     "output_type": "display_data"
    }
   ],
   "source": [
    "%%time\n",
    "print('=========== IFOREST FEATURE 3 ===========')\n",
    "print('=======>>>IFOREST CLUSTER RESULT')\n",
    "iforest_test_label = best_iforest.fit(X_train).predict(X_test)\n",
    "# print results\n",
    "clustering_print_results(df_test, iforest_test_label, selected_features, X_test, True, True )"
   ]
  },
  {
   "cell_type": "code",
   "execution_count": null,
   "metadata": {},
   "outputs": [],
   "source": [
    "## SECTION 8: Save anomalies to csv"
   ]
  },
  {
   "cell_type": "code",
   "execution_count": 190,
   "metadata": {},
   "outputs": [
    {
     "data": {
      "text/plain": [
       "870431"
      ]
     },
     "execution_count": 190,
     "metadata": {},
     "output_type": "execute_result"
    }
   ],
   "source": [
    "len(df_test)"
   ]
  },
  {
   "cell_type": "code",
   "execution_count": 191,
   "metadata": {},
   "outputs": [],
   "source": [
    "#Already exported\n",
    "#sort_anomalies    =   ['total_packets', 'bytes_bothdir','bytes_onedir', 'duration']\n",
    "# get anomalies\n",
    "#anomalies_ocsvm_result = get_anomalies(df_test, ocsvm_test_label)\n",
    "#anomalies_ocsvm_result.sort_values(by=sort_anomalies,ascending=False)\n",
    "#save(anomalies_ocsvm_result, \"ocsvm_f3_anomalies\")"
   ]
  },
  {
   "cell_type": "code",
   "execution_count": 187,
   "metadata": {},
   "outputs": [],
   "source": [
    "anomalies_iforest_result = get_anomalies(df_test, iforest_test_label)\n",
    "anomalies_iforest_result.sort_values(by=sort_anomalies,ascending=False)\n",
    "save(anomalies_iforest_result, \"ifoest_f3_anomalies\")"
   ]
  },
  {
   "cell_type": "code",
   "execution_count": null,
   "metadata": {},
   "outputs": [],
   "source": []
  },
  {
   "cell_type": "code",
   "execution_count": null,
   "metadata": {},
   "outputs": [],
   "source": [
    "## TASK2 GENERATING ADVERSARIAL SAMPLES =>>> Moved to another separate notebook file"
   ]
  },
  {
   "cell_type": "code",
   "execution_count": 674,
   "metadata": {},
   "outputs": [
    {
     "name": "stdout",
     "output_type": "stream",
     "text": [
      "DONE\n"
     ]
    }
   ],
   "source": [
    "from sklearn.linear_model import LogisticRegression\n",
    "\n",
    "headers = ['timestamp','duration','protocol', 'src_ip', 'src_port', 'direction', 'dst_ip' , 'dst_port'\n",
    "           ,'state', 'src_type', 'dst_type' , 'total_packets', 'bytes_bothdir', 'bytes_onedir', 'label']\n",
    "\n",
    "df_train_original = pd.read_csv(\"training_data_with_labels.csv\", names=headers, header=None).sample(frac=0.05, replace=False, random_state=42).fillna(-1)\n",
    "#df_val_notsampled = pd.read_csv(\"A2_2/valid_data_with_labels.csv\", names=val_headers, header=None).fillna(-1)\n",
    "df_test_original = pd.read_csv(\"test_data_with_labels.csv\", names=headers, header=None).fillna(-1)\n",
    "\n",
    "print('DONE')"
   ]
  },
  {
   "cell_type": "code",
   "execution_count": 675,
   "metadata": {},
   "outputs": [
    {
     "name": "stdout",
     "output_type": "stream",
     "text": [
      "98908\n"
     ]
    }
   ],
   "source": [
    "print(len(df_train_original))"
   ]
  },
  {
   "cell_type": "code",
   "execution_count": 676,
   "metadata": {},
   "outputs": [],
   "source": [
    "train_headers = ['timestamp','duration','protocol', 'src_ip', 'src_port', 'direction', 'dst_ip' , 'dst_port'\n",
    "           ,'state', 'src_type', 'dst_type' , 'total_packets', 'bytes_bothdir', 'bytes_onedir']\n",
    "\n",
    "df_train_original['label']= df_train_original['label'].apply(str)\n",
    "df_train_original.loc[df_train_original['label'].str.contains(\"From-Botnet\"), 'label'] = -1\n",
    "df_train_original.loc[df_train_original['label'].str.contains(\"From-Botnet\")== False, 'label'] = 1\n",
    "df_train_original.label = df_train_original.label.astype(int)\n",
    "\n",
    "df_test_original['label']= df_test_original['label'].apply(str)\n",
    "df_test_original.loc[df_test_original['label'].str.contains(\"From-Botnet\"), 'label'] = -1\n",
    "df_test_original.loc[df_test_original['label'].str.contains(\"From-Botnet\")== False, 'label'] = 1\n",
    "df_test_original.label = df_test_original.label.astype(int)\n"
   ]
  },
  {
   "cell_type": "code",
   "execution_count": 678,
   "metadata": {},
   "outputs": [
    {
     "name": "stdout",
     "output_type": "stream",
     "text": [
      "98908\n",
      "574383\n"
     ]
    }
   ],
   "source": [
    "X_train = df_train_original\n",
    "X_test = df_test_original\n",
    "print(len(X_train))\n",
    "print(len(X_test))"
   ]
  },
  {
   "cell_type": "code",
   "execution_count": 679,
   "metadata": {},
   "outputs": [
    {
     "name": "stdout",
     "output_type": "stream",
     "text": [
      "53954\n",
      "44954\n"
     ]
    }
   ],
   "source": [
    "print(len(X_train[X_train['label']==1]))\n",
    "print(len(X_train[X_train['label']==-1]))"
   ]
  },
  {
   "cell_type": "code",
   "execution_count": 681,
   "metadata": {},
   "outputs": [
    {
     "name": "stdout",
     "output_type": "stream",
     "text": [
      "Generatingi features... \n",
      "val DONE\n",
      "train len:  70584\n",
      "PCA.explained variance_ratio_ : 0.6232298575880069\n",
      "DONE\n",
      "Wall time: 32.6 s\n"
     ]
    }
   ],
   "source": [
    "%%time\n",
    "print('Generatingi features... ')\n",
    "X_train = get_feature3('val', X_train) \n",
    "print('train len: ', len(X_train))\n",
    "Y = X_train['label']\n",
    "\n",
    "feature3 = ['bytes_bothdir', 'bytes_onedir', 'total_packets', 'duration', \n",
    "             'pps', 'bps_onedir', 'bpp_onedir', 'bps_bothdir', 'bpp_bothdir', \n",
    "             'cnt_timed_src', 'cnt_timed_dst', 'cnt_timed_srcdst']\n",
    "\n",
    "selected_features = feature3\n",
    "columns_to_scale = feature3\n",
    "\n",
    "X_train[columns_to_scale] = apply_scaler(X_train)\n",
    "X_train = X_train[selected_features]\n",
    "X = get_pc(X_train, 3)\n",
    "Y = np.array(Y)\n",
    "print('DONE')"
   ]
  },
  {
   "cell_type": "code",
   "execution_count": 684,
   "metadata": {},
   "outputs": [
    {
     "name": "stderr",
     "output_type": "stream",
     "text": [
      "C:\\Users\\kebin\\Anaconda3\\lib\\site-packages\\ipykernel_launcher.py:40: RuntimeWarning: overflow encountered in exp\n"
     ]
    },
    {
     "name": "stdout",
     "output_type": "stream",
     "text": [
      "epoch: 0 cost: 265939.7362045402 error rate: 0.34964014507537117\n",
      "epoch: 200 cost: 3463993.5325673562 error rate: 0.36794457667460045\n",
      "epoch: 400 cost: 3486488.2836368647 error rate: 0.36795874419131813\n",
      "epoch: 600 cost: 3496335.754784658 error rate: 0.36795874419131813\n",
      "epoch: 800 cost: 3502254.413517331 error rate: 0.36795874419131813\n"
     ]
    }
   ],
   "source": [
    "class logistic_regression2(object):\n",
    "    def fit(self, X, Y, learning_rate=0.0000003, epoch=1000):\n",
    "        X = np.array(X, dtype=\"float32\")\n",
    "        Y = np.array(Y, dtype=\"float32\")\n",
    "\n",
    "        N, D = X.shape\n",
    "        Y = Y.reshape(N, 1)\n",
    "\n",
    "        dlt = np.zeros([N, 1], dtype=\"float32\")\n",
    "        dW = np.zeros([1, D], dtype=\"float32\")\n",
    "        db = 0\n",
    "        self.weight = np.zeros([D, 1], dtype=\"float32\")\n",
    "        self.beta = 0\n",
    "\n",
    "        c = []\n",
    "\n",
    "        for n in range(epoch):\n",
    "            dlt = self.predict(X).T - Y\n",
    "            dW = np.matmul(dlt.T, X).T\n",
    "            db = dlt.sum() / N\n",
    "\n",
    "            self.weight -= learning_rate * dW\n",
    "            self.beta -= learning_rate * db\n",
    "            if n % 200 == 0:\n",
    "                c_new = cost(self.predict(X).T, Y)\n",
    "                c.append(c_new)\n",
    "                err = error_rate(self.predict_class(X).T, Y)\n",
    "                print(\"epoch:\", n, \"cost:\", c_new, \"error rate:\", err)\n",
    "\n",
    "    def predict(self, X):\n",
    "        z = np.matmul(self.weight.T, X.T) + self.beta\n",
    "        return 1 / (1 + np.exp(-z))\n",
    "\n",
    "    def predict_class(self, X):\n",
    "        predictclass = self.predict(X)\n",
    "        return (predictclass >= 0.5) * 1\n",
    "                \n",
    "    def predict(self, X):\n",
    "        z = np.matmul(self.weight.T, X.T) + self.beta\n",
    "        return 1 / (1 + np.exp(-z))\n",
    "\n",
    "    def predict_class(self, X):\n",
    "        predictclass = self.predict(X)\n",
    "        return (predictclass >= 0.5) * 1\n",
    "                \n",
    "def error_rate(P, Y):\n",
    "    return np.mean(Y != P)\n",
    "\n",
    "def adversial_samples(X, Y, model, epsilon=0.00001):\n",
    "    dlt = model.predict(X).T - Y.reshape(X.shape[0], 1)\n",
    "    direction = np.sign(np.matmul(dlt, model.weight.T))\n",
    "    return X + epsilon * direction, Y\n",
    "\n",
    "def cost(Y_hat, Y):\n",
    "    Y_hat = Y_hat.flatten()\n",
    "    Y = Y.flatten()\n",
    "    cost1 = 0\n",
    "    elp = 0.0000000000000000000000000000000000000000000001\n",
    "    for i in range(len(Y)):\n",
    "        cost1 -= Y[i] * np.log(Y_hat[i] + elp) + (1 - Y[i]) * np.log(1 - Y_hat[i] + elp)\n",
    "    return cost1\n",
    "\n",
    "\n",
    "\n",
    "model = logistic_regression2()\n",
    "model.fit(X, Y, learning_rate=0.0005,  epoch=1000) #20000\n",
    "\n",
    "#model = LogisticRegression()\n",
    "#model.fit(X, Y)"
   ]
  },
  {
   "cell_type": "code",
   "execution_count": 686,
   "metadata": {},
   "outputs": [
    {
     "name": "stderr",
     "output_type": "stream",
     "text": [
      "C:\\Users\\kebin\\Anaconda3\\lib\\site-packages\\ipykernel_launcher.py:40: RuntimeWarning: overflow encountered in exp\n"
     ]
    },
    {
     "name": "stdout",
     "output_type": "stream",
     "text": [
      "Error Rate without adversarial examples: 0.3679870792247535\n",
      "Error Rate with adversarial examples, epsilon = 0.2: 0.3697296837810269\n",
      "Error Rate with adversarial examples, epsilon = 0.5: 0.3697296837810269\n"
     ]
    },
    {
     "data": {
      "image/png": "[encoded data removed]",
      "text/plain": [
       "<Figure size 432x288 with 1 Axes>"
      ]
     },
     "metadata": {
      "needs_background": "light"
     },
     "output_type": "display_data"
    }
   ],
   "source": [
    "print('Error Rate without adversarial examples:', error_rate(model.predict_class(X).T, Y.reshape(X.shape[0], 1)))\n",
    "\n",
    "Xadv, Y = adversial_samples(X, Y, model, epsilon=0.2)\n",
    "print('Error Rate with adversarial examples, epsilon = 0.2:', error_rate(model.predict(Xadv).T, Y.reshape(Xadv.shape[0], 1)))\n",
    "Xadv2, Y = adversial_samples(X, Y, model, epsilon=0.5)\n",
    "print('Error Rate with adversarial examples, epsilon = 0.5:', error_rate(model.predict(Xadv2).T, Y.reshape(Xadv2.shape[0], 1)))\n",
    "\n",
    "plt.scatter(X[:9999, 0], X[:9999, 1], color='blue', alpha=0.4, label='Original Data')\n",
    "plt.scatter(Xadv[:9999, 0], Xadv[:9999, 1], color='green', alpha=0.4, label='Adversarial Examples, Epsilon = 0.2')\n",
    "plt.scatter(Xadv2[:9999, 0], Xadv2[:9999, 1], color='purple', alpha=0.4, label='Adversarial Examples, Epsilon = 0.5')\n",
    "plt.scatter(X[10000:, 0], X[10000:, 1], color='red', alpha=0.4, label='Original Data')\n",
    "plt.scatter(Xadv[10000:, 0], Xadv[10000:, 1], color='orange', alpha=0.4, label='Adversarial Examples, Epsilon = 0.2')\n",
    "plt.scatter(Xadv2[10000:, 0], Xadv2[10000:, 1], color='yellow', alpha=0.4, label='Adversarial Examples, Epsilon = 0.5')\n",
    "plt.legend(loc='best')\n",
    "plt.show()"
   ]
  },
  {
   "cell_type": "code",
   "execution_count": null,
   "metadata": {},
   "outputs": [],
   "source": []
  },
  {
   "cell_type": "code",
   "execution_count": 664,
   "metadata": {},
   "outputs": [
    {
     "name": "stderr",
     "output_type": "stream",
     "text": [
      "C:\\Users\\kebin\\Anaconda3\\lib\\site-packages\\ipykernel_launcher.py:40: RuntimeWarning: overflow encountered in exp\n"
     ]
    },
    {
     "name": "stdout",
     "output_type": "stream",
     "text": [
      "Error Rate without adversarial examples: 0.3697296837810269\n",
      "Error Rate with adversarial examples, epsilon = 0.2: 0.3697296837810269\n",
      "Error Rate with adversarial examples, epsilon = 0.5: 0.3697296837810269\n"
     ]
    },
    {
     "data": {
      "image/png": "[encoded data removed]",
      "text/plain": [
       "<Figure size 432x288 with 1 Axes>"
      ]
     },
     "metadata": {
      "needs_background": "light"
     },
     "output_type": "display_data"
    }
   ],
   "source": [
    "print('Error Rate without adversarial examples:', error_rate(model.predict(X).T, Y.reshape(X.shape[0], 1)))\n",
    "Xadv, Y = adversial_samples(X, Y, model, epsilon=0.2)\n",
    "print('Error Rate with adversarial examples, epsilon = 0.2:', error_rate(model.predict(Xadv).T, Y.reshape(Xadv.shape[0], 1)))\n",
    "Xadv2, Y = adversial_samples(X, Y, model, epsilon=0.5)\n",
    "print('Error Rate with adversarial examples, epsilon = 0.5:', error_rate(model.predict(Xadv2).T, Y.reshape(Xadv2.shape[0], 1)))\n",
    "\n",
    "plt.scatter(X[:9999, 0], X[:9999, 1], color='blue', alpha=0.4, label='Original Data')\n",
    "plt.scatter(Xadv[:9999, 0], Xadv[:9999, 1], color='green', alpha=0.4, label='Adversarial Examples, Epsilon = 0.2')\n",
    "plt.scatter(Xadv2[:9999, 0], Xadv2[:9999, 1], color='purple', alpha=0.4, label='Adversarial Examples, Epsilon = 0.5')\n",
    "plt.scatter(X[10000:, 0], X[10000:, 1], color='red', alpha=0.4, label='Original Data')\n",
    "plt.scatter(Xadv[10000:, 0], Xadv[10000:, 1], color='orange', alpha=0.4, label='Adversarial Examples, Epsilon = 0.2')\n",
    "plt.scatter(Xadv2[10000:, 0], Xadv2[10000:, 1], color='yellow', alpha=0.4, label='Adversarial Examples, Epsilon = 0.5')\n",
    "plt.legend(loc='best')\n",
    "plt.show()"
   ]
  },
  {
   "cell_type": "code",
   "execution_count": null,
   "metadata": {},
   "outputs": [],
   "source": []
  }
 ],
 "metadata": {
  "kernelspec": {
   "display_name": "Python 3",
   "language": "python",
   "name": "python3"
  },
  "language_info": {
   "codemirror_mode": {
    "name": "ipython",
    "version": 3
   },
   "file_extension": ".py",
   "mimetype": "text/x-python",
   "name": "python",
   "nbconvert_exporter": "python",
   "pygments_lexer": "ipython3",
   "version": "3.7.1"
  }
 },
 "nbformat": 4,
 "nbformat_minor": 4
}
